{
 "cells": [
  {
   "cell_type": "code",
   "execution_count": 1,
   "id": "bdf86189",
   "metadata": {},
   "outputs": [],
   "source": [
    "import pandas as pd\n",
    "import numpy as np \n",
    "import matplotlib.pyplot as plt\n",
    "import seaborn as sns\n",
    "from sklearn.cluster import KMeans"
   ]
  },
  {
   "cell_type": "code",
   "execution_count": 2,
   "id": "7de3a807",
   "metadata": {},
   "outputs": [],
   "source": [
    "# 한글 폰트 사용을 위해서 세팅\n",
    "from matplotlib import font_manager, rc\n",
    "font_path = \"C:/Windows/Fonts/NGULIM.TTF\"\n",
    "font = font_manager.FontProperties(fname=font_path).get_name()\n",
    "rc('font', family=font)"
   ]
  },
  {
   "cell_type": "code",
   "execution_count": 3,
   "id": "22134652",
   "metadata": {},
   "outputs": [
    {
     "data": {
      "text/html": [
       "<div>\n",
       "<style scoped>\n",
       "    .dataframe tbody tr th:only-of-type {\n",
       "        vertical-align: middle;\n",
       "    }\n",
       "\n",
       "    .dataframe tbody tr th {\n",
       "        vertical-align: top;\n",
       "    }\n",
       "\n",
       "    .dataframe thead th {\n",
       "        text-align: right;\n",
       "    }\n",
       "</style>\n",
       "<table border=\"1\" class=\"dataframe\">\n",
       "  <thead>\n",
       "    <tr style=\"text-align: right;\">\n",
       "      <th></th>\n",
       "      <th>JOIN_SN</th>\n",
       "      <th>JOIN_SN_TYP</th>\n",
       "      <th>BTH_YR</th>\n",
       "      <th>GENDER</th>\n",
       "      <th>IS_KRN</th>\n",
       "      <th>AGE</th>\n",
       "      <th>SCTR_CD</th>\n",
       "      <th>COM_SN</th>\n",
       "      <th>POL_SN</th>\n",
       "      <th>GIS_CD</th>\n",
       "      <th>...</th>\n",
       "      <th>CT_PY_AMT</th>\n",
       "      <th>CT_PY_CYCLE_CD</th>\n",
       "      <th>CT_PY_PD</th>\n",
       "      <th>CT_CHNL_CD</th>\n",
       "      <th>INSU_DAYS</th>\n",
       "      <th>INSU_YEAR</th>\n",
       "      <th>MGG_GRP_CD</th>\n",
       "      <th>MGG_CD</th>\n",
       "      <th>MGG_CNT</th>\n",
       "      <th>MGG_AMT_SUM</th>\n",
       "    </tr>\n",
       "  </thead>\n",
       "  <tbody>\n",
       "    <tr>\n",
       "      <th>0</th>\n",
       "      <td>233370</td>\n",
       "      <td>1</td>\n",
       "      <td>1997</td>\n",
       "      <td>2</td>\n",
       "      <td>1</td>\n",
       "      <td>26</td>\n",
       "      <td>8</td>\n",
       "      <td>6900284</td>\n",
       "      <td>344059</td>\n",
       "      <td>33</td>\n",
       "      <td>...</td>\n",
       "      <td>70</td>\n",
       "      <td>2</td>\n",
       "      <td>20</td>\n",
       "      <td>1</td>\n",
       "      <td>28490</td>\n",
       "      <td>79</td>\n",
       "      <td>A5</td>\n",
       "      <td>A5309</td>\n",
       "      <td>1</td>\n",
       "      <td>4500</td>\n",
       "    </tr>\n",
       "    <tr>\n",
       "      <th>1</th>\n",
       "      <td>233370</td>\n",
       "      <td>1</td>\n",
       "      <td>1997</td>\n",
       "      <td>2</td>\n",
       "      <td>1</td>\n",
       "      <td>26</td>\n",
       "      <td>8</td>\n",
       "      <td>6900284</td>\n",
       "      <td>344059</td>\n",
       "      <td>33</td>\n",
       "      <td>...</td>\n",
       "      <td>70</td>\n",
       "      <td>2</td>\n",
       "      <td>20</td>\n",
       "      <td>1</td>\n",
       "      <td>28490</td>\n",
       "      <td>79</td>\n",
       "      <td>A4</td>\n",
       "      <td>A4102</td>\n",
       "      <td>1</td>\n",
       "      <td>18000</td>\n",
       "    </tr>\n",
       "    <tr>\n",
       "      <th>2</th>\n",
       "      <td>233370</td>\n",
       "      <td>1</td>\n",
       "      <td>1997</td>\n",
       "      <td>2</td>\n",
       "      <td>1</td>\n",
       "      <td>26</td>\n",
       "      <td>8</td>\n",
       "      <td>6900284</td>\n",
       "      <td>344059</td>\n",
       "      <td>33</td>\n",
       "      <td>...</td>\n",
       "      <td>70</td>\n",
       "      <td>2</td>\n",
       "      <td>20</td>\n",
       "      <td>1</td>\n",
       "      <td>28490</td>\n",
       "      <td>79</td>\n",
       "      <td>A5</td>\n",
       "      <td>A5107</td>\n",
       "      <td>1</td>\n",
       "      <td>1800</td>\n",
       "    </tr>\n",
       "    <tr>\n",
       "      <th>3</th>\n",
       "      <td>233370</td>\n",
       "      <td>1</td>\n",
       "      <td>1997</td>\n",
       "      <td>2</td>\n",
       "      <td>1</td>\n",
       "      <td>26</td>\n",
       "      <td>8</td>\n",
       "      <td>6900284</td>\n",
       "      <td>344059</td>\n",
       "      <td>33</td>\n",
       "      <td>...</td>\n",
       "      <td>70</td>\n",
       "      <td>2</td>\n",
       "      <td>20</td>\n",
       "      <td>1</td>\n",
       "      <td>28490</td>\n",
       "      <td>79</td>\n",
       "      <td>A6</td>\n",
       "      <td>A6109</td>\n",
       "      <td>1</td>\n",
       "      <td>100</td>\n",
       "    </tr>\n",
       "    <tr>\n",
       "      <th>4</th>\n",
       "      <td>233370</td>\n",
       "      <td>1</td>\n",
       "      <td>1997</td>\n",
       "      <td>2</td>\n",
       "      <td>1</td>\n",
       "      <td>26</td>\n",
       "      <td>8</td>\n",
       "      <td>6900284</td>\n",
       "      <td>344059</td>\n",
       "      <td>33</td>\n",
       "      <td>...</td>\n",
       "      <td>70</td>\n",
       "      <td>2</td>\n",
       "      <td>20</td>\n",
       "      <td>1</td>\n",
       "      <td>28490</td>\n",
       "      <td>79</td>\n",
       "      <td>A4</td>\n",
       "      <td>A4200</td>\n",
       "      <td>1</td>\n",
       "      <td>18000</td>\n",
       "    </tr>\n",
       "    <tr>\n",
       "      <th>...</th>\n",
       "      <td>...</td>\n",
       "      <td>...</td>\n",
       "      <td>...</td>\n",
       "      <td>...</td>\n",
       "      <td>...</td>\n",
       "      <td>...</td>\n",
       "      <td>...</td>\n",
       "      <td>...</td>\n",
       "      <td>...</td>\n",
       "      <td>...</td>\n",
       "      <td>...</td>\n",
       "      <td>...</td>\n",
       "      <td>...</td>\n",
       "      <td>...</td>\n",
       "      <td>...</td>\n",
       "      <td>...</td>\n",
       "      <td>...</td>\n",
       "      <td>...</td>\n",
       "      <td>...</td>\n",
       "      <td>...</td>\n",
       "      <td>...</td>\n",
       "    </tr>\n",
       "    <tr>\n",
       "      <th>407436</th>\n",
       "      <td>541575</td>\n",
       "      <td>1</td>\n",
       "      <td>1978</td>\n",
       "      <td>1</td>\n",
       "      <td>1</td>\n",
       "      <td>45</td>\n",
       "      <td>6</td>\n",
       "      <td>7829020</td>\n",
       "      <td>5507225</td>\n",
       "      <td>26</td>\n",
       "      <td>...</td>\n",
       "      <td>79</td>\n",
       "      <td>2</td>\n",
       "      <td>30</td>\n",
       "      <td>1</td>\n",
       "      <td>19358</td>\n",
       "      <td>54</td>\n",
       "      <td>A6</td>\n",
       "      <td>A6112</td>\n",
       "      <td>1</td>\n",
       "      <td>240</td>\n",
       "    </tr>\n",
       "    <tr>\n",
       "      <th>407437</th>\n",
       "      <td>541575</td>\n",
       "      <td>1</td>\n",
       "      <td>1978</td>\n",
       "      <td>1</td>\n",
       "      <td>1</td>\n",
       "      <td>45</td>\n",
       "      <td>6</td>\n",
       "      <td>7829020</td>\n",
       "      <td>5507225</td>\n",
       "      <td>26</td>\n",
       "      <td>...</td>\n",
       "      <td>79</td>\n",
       "      <td>2</td>\n",
       "      <td>30</td>\n",
       "      <td>1</td>\n",
       "      <td>19358</td>\n",
       "      <td>54</td>\n",
       "      <td>A1</td>\n",
       "      <td>A1300</td>\n",
       "      <td>2</td>\n",
       "      <td>80000</td>\n",
       "    </tr>\n",
       "    <tr>\n",
       "      <th>407438</th>\n",
       "      <td>541575</td>\n",
       "      <td>1</td>\n",
       "      <td>1978</td>\n",
       "      <td>1</td>\n",
       "      <td>1</td>\n",
       "      <td>45</td>\n",
       "      <td>6</td>\n",
       "      <td>7829020</td>\n",
       "      <td>5507225</td>\n",
       "      <td>26</td>\n",
       "      <td>...</td>\n",
       "      <td>79</td>\n",
       "      <td>2</td>\n",
       "      <td>30</td>\n",
       "      <td>1</td>\n",
       "      <td>19358</td>\n",
       "      <td>54</td>\n",
       "      <td>A5</td>\n",
       "      <td>A5100</td>\n",
       "      <td>2</td>\n",
       "      <td>240</td>\n",
       "    </tr>\n",
       "    <tr>\n",
       "      <th>407439</th>\n",
       "      <td>541575</td>\n",
       "      <td>1</td>\n",
       "      <td>1978</td>\n",
       "      <td>1</td>\n",
       "      <td>1</td>\n",
       "      <td>45</td>\n",
       "      <td>6</td>\n",
       "      <td>7829020</td>\n",
       "      <td>5507225</td>\n",
       "      <td>26</td>\n",
       "      <td>...</td>\n",
       "      <td>79</td>\n",
       "      <td>2</td>\n",
       "      <td>30</td>\n",
       "      <td>1</td>\n",
       "      <td>19358</td>\n",
       "      <td>54</td>\n",
       "      <td>A5</td>\n",
       "      <td>A5107</td>\n",
       "      <td>1</td>\n",
       "      <td>4000</td>\n",
       "    </tr>\n",
       "    <tr>\n",
       "      <th>407440</th>\n",
       "      <td>541575</td>\n",
       "      <td>1</td>\n",
       "      <td>1978</td>\n",
       "      <td>1</td>\n",
       "      <td>1</td>\n",
       "      <td>45</td>\n",
       "      <td>6</td>\n",
       "      <td>7829020</td>\n",
       "      <td>5507225</td>\n",
       "      <td>26</td>\n",
       "      <td>...</td>\n",
       "      <td>79</td>\n",
       "      <td>2</td>\n",
       "      <td>30</td>\n",
       "      <td>1</td>\n",
       "      <td>19358</td>\n",
       "      <td>54</td>\n",
       "      <td>A99</td>\n",
       "      <td>A9999</td>\n",
       "      <td>2</td>\n",
       "      <td>8000</td>\n",
       "    </tr>\n",
       "  </tbody>\n",
       "</table>\n",
       "<p>407441 rows × 24 columns</p>\n",
       "</div>"
      ],
      "text/plain": [
       "        JOIN_SN  JOIN_SN_TYP  BTH_YR  GENDER  IS_KRN  AGE  SCTR_CD   COM_SN  \\\n",
       "0        233370            1    1997       2       1   26        8  6900284   \n",
       "1        233370            1    1997       2       1   26        8  6900284   \n",
       "2        233370            1    1997       2       1   26        8  6900284   \n",
       "3        233370            1    1997       2       1   26        8  6900284   \n",
       "4        233370            1    1997       2       1   26        8  6900284   \n",
       "...         ...          ...     ...     ...     ...  ...      ...      ...   \n",
       "407436   541575            1    1978       1       1   45        6  7829020   \n",
       "407437   541575            1    1978       1       1   45        6  7829020   \n",
       "407438   541575            1    1978       1       1   45        6  7829020   \n",
       "407439   541575            1    1978       1       1   45        6  7829020   \n",
       "407440   541575            1    1978       1       1   45        6  7829020   \n",
       "\n",
       "         POL_SN  GIS_CD  ...  CT_PY_AMT  CT_PY_CYCLE_CD CT_PY_PD CT_CHNL_CD  \\\n",
       "0        344059      33  ...         70               2       20          1   \n",
       "1        344059      33  ...         70               2       20          1   \n",
       "2        344059      33  ...         70               2       20          1   \n",
       "3        344059      33  ...         70               2       20          1   \n",
       "4        344059      33  ...         70               2       20          1   \n",
       "...         ...     ...  ...        ...             ...      ...        ...   \n",
       "407436  5507225      26  ...         79               2       30          1   \n",
       "407437  5507225      26  ...         79               2       30          1   \n",
       "407438  5507225      26  ...         79               2       30          1   \n",
       "407439  5507225      26  ...         79               2       30          1   \n",
       "407440  5507225      26  ...         79               2       30          1   \n",
       "\n",
       "        INSU_DAYS  INSU_YEAR  MGG_GRP_CD  MGG_CD  MGG_CNT  MGG_AMT_SUM  \n",
       "0           28490         79          A5   A5309        1         4500  \n",
       "1           28490         79          A4   A4102        1        18000  \n",
       "2           28490         79          A5   A5107        1         1800  \n",
       "3           28490         79          A6   A6109        1          100  \n",
       "4           28490         79          A4   A4200        1        18000  \n",
       "...           ...        ...         ...     ...      ...          ...  \n",
       "407436      19358         54          A6   A6112        1          240  \n",
       "407437      19358         54          A1   A1300        2        80000  \n",
       "407438      19358         54          A5   A5100        2          240  \n",
       "407439      19358         54          A5   A5107        1         4000  \n",
       "407440      19358         54         A99   A9999        2         8000  \n",
       "\n",
       "[407441 rows x 24 columns]"
      ]
     },
     "execution_count": 3,
     "metadata": {},
     "output_type": "execute_result"
    }
   ],
   "source": [
    "df = pd.read_csv(\"preprocessed_5.csv\")\n",
    "df"
   ]
  },
  {
   "cell_type": "code",
   "execution_count": 4,
   "id": "e5eec289",
   "metadata": {},
   "outputs": [
    {
     "data": {
      "text/plain": [
       "Index(['JOIN_SN', 'JOIN_SN_TYP', 'BTH_YR', 'GENDER', 'IS_KRN', 'AGE',\n",
       "       'SCTR_CD', 'COM_SN', 'POL_SN', 'GIS_CD', 'INS_GBN_CD', 'INS_CT_STAT_CD',\n",
       "       'CT_ST_DT', 'CT_END_DT', 'CT_PY_AMT', 'CT_PY_CYCLE_CD', 'CT_PY_PD',\n",
       "       'CT_CHNL_CD', 'INSU_DAYS', 'INSU_YEAR', 'MGG_GRP_CD', 'MGG_CD',\n",
       "       'MGG_CNT', 'MGG_AMT_SUM'],\n",
       "      dtype='object')"
      ]
     },
     "execution_count": 4,
     "metadata": {},
     "output_type": "execute_result"
    }
   ],
   "source": [
    "df.columns"
   ]
  },
  {
   "cell_type": "code",
   "execution_count": 5,
   "id": "4fa32c3e",
   "metadata": {},
   "outputs": [
    {
     "data": {
      "text/html": [
       "<div>\n",
       "<style scoped>\n",
       "    .dataframe tbody tr th:only-of-type {\n",
       "        vertical-align: middle;\n",
       "    }\n",
       "\n",
       "    .dataframe tbody tr th {\n",
       "        vertical-align: top;\n",
       "    }\n",
       "\n",
       "    .dataframe thead th {\n",
       "        text-align: right;\n",
       "    }\n",
       "</style>\n",
       "<table border=\"1\" class=\"dataframe\">\n",
       "  <thead>\n",
       "    <tr style=\"text-align: right;\">\n",
       "      <th></th>\n",
       "      <th>JOIN_SN</th>\n",
       "      <th>JOIN_SN_TYP</th>\n",
       "      <th>BTH_YR</th>\n",
       "      <th>GENDER</th>\n",
       "      <th>IS_KRN</th>\n",
       "      <th>AGE</th>\n",
       "      <th>SCTR_CD</th>\n",
       "      <th>COM_SN</th>\n",
       "      <th>POL_SN</th>\n",
       "      <th>GIS_CD</th>\n",
       "      <th>...</th>\n",
       "      <th>CT_PY_AMT</th>\n",
       "      <th>CT_PY_CYCLE_CD</th>\n",
       "      <th>CT_PY_PD</th>\n",
       "      <th>CT_CHNL_CD</th>\n",
       "      <th>INSU_DAYS</th>\n",
       "      <th>INSU_YEAR</th>\n",
       "      <th>MGG_GRP_CD</th>\n",
       "      <th>MGG_CD</th>\n",
       "      <th>MGG_CNT</th>\n",
       "      <th>MGG_AMT_SUM</th>\n",
       "    </tr>\n",
       "  </thead>\n",
       "  <tbody>\n",
       "    <tr>\n",
       "      <th>1681</th>\n",
       "      <td>195908</td>\n",
       "      <td>1</td>\n",
       "      <td>1993</td>\n",
       "      <td>1</td>\n",
       "      <td>1</td>\n",
       "      <td>30</td>\n",
       "      <td>6</td>\n",
       "      <td>7163853</td>\n",
       "      <td>8006336</td>\n",
       "      <td>21</td>\n",
       "      <td>...</td>\n",
       "      <td>250</td>\n",
       "      <td>1</td>\n",
       "      <td>0</td>\n",
       "      <td>1</td>\n",
       "      <td>184</td>\n",
       "      <td>1</td>\n",
       "      <td>A1</td>\n",
       "      <td>A1399</td>\n",
       "      <td>1</td>\n",
       "      <td>32000</td>\n",
       "    </tr>\n",
       "    <tr>\n",
       "      <th>1682</th>\n",
       "      <td>195908</td>\n",
       "      <td>1</td>\n",
       "      <td>1993</td>\n",
       "      <td>1</td>\n",
       "      <td>1</td>\n",
       "      <td>30</td>\n",
       "      <td>6</td>\n",
       "      <td>7163853</td>\n",
       "      <td>8006336</td>\n",
       "      <td>21</td>\n",
       "      <td>...</td>\n",
       "      <td>250</td>\n",
       "      <td>1</td>\n",
       "      <td>0</td>\n",
       "      <td>1</td>\n",
       "      <td>184</td>\n",
       "      <td>1</td>\n",
       "      <td>A1</td>\n",
       "      <td>A1399</td>\n",
       "      <td>1</td>\n",
       "      <td>32000</td>\n",
       "    </tr>\n",
       "    <tr>\n",
       "      <th>2230</th>\n",
       "      <td>880454</td>\n",
       "      <td>1</td>\n",
       "      <td>1992</td>\n",
       "      <td>2</td>\n",
       "      <td>1</td>\n",
       "      <td>31</td>\n",
       "      <td>6</td>\n",
       "      <td>2443</td>\n",
       "      <td>545678</td>\n",
       "      <td>31</td>\n",
       "      <td>...</td>\n",
       "      <td>16</td>\n",
       "      <td>1</td>\n",
       "      <td>0</td>\n",
       "      <td>7</td>\n",
       "      <td>31</td>\n",
       "      <td>1</td>\n",
       "      <td>A4</td>\n",
       "      <td>A4199</td>\n",
       "      <td>1</td>\n",
       "      <td>160</td>\n",
       "    </tr>\n",
       "    <tr>\n",
       "      <th>2231</th>\n",
       "      <td>880454</td>\n",
       "      <td>1</td>\n",
       "      <td>1992</td>\n",
       "      <td>2</td>\n",
       "      <td>1</td>\n",
       "      <td>31</td>\n",
       "      <td>6</td>\n",
       "      <td>2443</td>\n",
       "      <td>545678</td>\n",
       "      <td>31</td>\n",
       "      <td>...</td>\n",
       "      <td>16</td>\n",
       "      <td>1</td>\n",
       "      <td>0</td>\n",
       "      <td>7</td>\n",
       "      <td>31</td>\n",
       "      <td>1</td>\n",
       "      <td>A1</td>\n",
       "      <td>A1100</td>\n",
       "      <td>1</td>\n",
       "      <td>16000</td>\n",
       "    </tr>\n",
       "    <tr>\n",
       "      <th>2232</th>\n",
       "      <td>880454</td>\n",
       "      <td>1</td>\n",
       "      <td>1992</td>\n",
       "      <td>2</td>\n",
       "      <td>1</td>\n",
       "      <td>31</td>\n",
       "      <td>6</td>\n",
       "      <td>2443</td>\n",
       "      <td>545678</td>\n",
       "      <td>31</td>\n",
       "      <td>...</td>\n",
       "      <td>16</td>\n",
       "      <td>1</td>\n",
       "      <td>0</td>\n",
       "      <td>7</td>\n",
       "      <td>31</td>\n",
       "      <td>1</td>\n",
       "      <td>A3</td>\n",
       "      <td>A3101</td>\n",
       "      <td>1</td>\n",
       "      <td>10000</td>\n",
       "    </tr>\n",
       "    <tr>\n",
       "      <th>...</th>\n",
       "      <td>...</td>\n",
       "      <td>...</td>\n",
       "      <td>...</td>\n",
       "      <td>...</td>\n",
       "      <td>...</td>\n",
       "      <td>...</td>\n",
       "      <td>...</td>\n",
       "      <td>...</td>\n",
       "      <td>...</td>\n",
       "      <td>...</td>\n",
       "      <td>...</td>\n",
       "      <td>...</td>\n",
       "      <td>...</td>\n",
       "      <td>...</td>\n",
       "      <td>...</td>\n",
       "      <td>...</td>\n",
       "      <td>...</td>\n",
       "      <td>...</td>\n",
       "      <td>...</td>\n",
       "      <td>...</td>\n",
       "      <td>...</td>\n",
       "    </tr>\n",
       "    <tr>\n",
       "      <th>406532</th>\n",
       "      <td>979312</td>\n",
       "      <td>1</td>\n",
       "      <td>2002</td>\n",
       "      <td>1</td>\n",
       "      <td>1</td>\n",
       "      <td>21</td>\n",
       "      <td>6</td>\n",
       "      <td>5695546</td>\n",
       "      <td>2137903</td>\n",
       "      <td>23</td>\n",
       "      <td>...</td>\n",
       "      <td>18</td>\n",
       "      <td>1</td>\n",
       "      <td>0</td>\n",
       "      <td>5</td>\n",
       "      <td>30</td>\n",
       "      <td>1</td>\n",
       "      <td>A94</td>\n",
       "      <td>A9499</td>\n",
       "      <td>1</td>\n",
       "      <td>1300</td>\n",
       "    </tr>\n",
       "    <tr>\n",
       "      <th>406533</th>\n",
       "      <td>979312</td>\n",
       "      <td>1</td>\n",
       "      <td>2002</td>\n",
       "      <td>1</td>\n",
       "      <td>1</td>\n",
       "      <td>21</td>\n",
       "      <td>6</td>\n",
       "      <td>5695546</td>\n",
       "      <td>2137903</td>\n",
       "      <td>23</td>\n",
       "      <td>...</td>\n",
       "      <td>18</td>\n",
       "      <td>1</td>\n",
       "      <td>0</td>\n",
       "      <td>5</td>\n",
       "      <td>30</td>\n",
       "      <td>1</td>\n",
       "      <td>A3</td>\n",
       "      <td>A3101</td>\n",
       "      <td>1</td>\n",
       "      <td>10000</td>\n",
       "    </tr>\n",
       "    <tr>\n",
       "      <th>406534</th>\n",
       "      <td>979312</td>\n",
       "      <td>1</td>\n",
       "      <td>2002</td>\n",
       "      <td>1</td>\n",
       "      <td>1</td>\n",
       "      <td>21</td>\n",
       "      <td>6</td>\n",
       "      <td>5695546</td>\n",
       "      <td>2137903</td>\n",
       "      <td>23</td>\n",
       "      <td>...</td>\n",
       "      <td>18</td>\n",
       "      <td>1</td>\n",
       "      <td>0</td>\n",
       "      <td>5</td>\n",
       "      <td>30</td>\n",
       "      <td>1</td>\n",
       "      <td>A1</td>\n",
       "      <td>A1399</td>\n",
       "      <td>1</td>\n",
       "      <td>270000</td>\n",
       "    </tr>\n",
       "    <tr>\n",
       "      <th>406535</th>\n",
       "      <td>979312</td>\n",
       "      <td>1</td>\n",
       "      <td>2002</td>\n",
       "      <td>1</td>\n",
       "      <td>1</td>\n",
       "      <td>21</td>\n",
       "      <td>6</td>\n",
       "      <td>5695546</td>\n",
       "      <td>2137903</td>\n",
       "      <td>23</td>\n",
       "      <td>...</td>\n",
       "      <td>18</td>\n",
       "      <td>1</td>\n",
       "      <td>0</td>\n",
       "      <td>5</td>\n",
       "      <td>30</td>\n",
       "      <td>1</td>\n",
       "      <td>A94</td>\n",
       "      <td>A9499</td>\n",
       "      <td>1</td>\n",
       "      <td>1300</td>\n",
       "    </tr>\n",
       "    <tr>\n",
       "      <th>406536</th>\n",
       "      <td>979312</td>\n",
       "      <td>1</td>\n",
       "      <td>2002</td>\n",
       "      <td>1</td>\n",
       "      <td>1</td>\n",
       "      <td>21</td>\n",
       "      <td>6</td>\n",
       "      <td>5695546</td>\n",
       "      <td>2137903</td>\n",
       "      <td>23</td>\n",
       "      <td>...</td>\n",
       "      <td>18</td>\n",
       "      <td>1</td>\n",
       "      <td>0</td>\n",
       "      <td>5</td>\n",
       "      <td>30</td>\n",
       "      <td>1</td>\n",
       "      <td>A3</td>\n",
       "      <td>A3101</td>\n",
       "      <td>1</td>\n",
       "      <td>10000</td>\n",
       "    </tr>\n",
       "  </tbody>\n",
       "</table>\n",
       "<p>1576 rows × 24 columns</p>\n",
       "</div>"
      ],
      "text/plain": [
       "        JOIN_SN  JOIN_SN_TYP  BTH_YR  GENDER  IS_KRN  AGE  SCTR_CD   COM_SN  \\\n",
       "1681     195908            1    1993       1       1   30        6  7163853   \n",
       "1682     195908            1    1993       1       1   30        6  7163853   \n",
       "2230     880454            1    1992       2       1   31        6     2443   \n",
       "2231     880454            1    1992       2       1   31        6     2443   \n",
       "2232     880454            1    1992       2       1   31        6     2443   \n",
       "...         ...          ...     ...     ...     ...  ...      ...      ...   \n",
       "406532   979312            1    2002       1       1   21        6  5695546   \n",
       "406533   979312            1    2002       1       1   21        6  5695546   \n",
       "406534   979312            1    2002       1       1   21        6  5695546   \n",
       "406535   979312            1    2002       1       1   21        6  5695546   \n",
       "406536   979312            1    2002       1       1   21        6  5695546   \n",
       "\n",
       "         POL_SN  GIS_CD  ...  CT_PY_AMT  CT_PY_CYCLE_CD CT_PY_PD CT_CHNL_CD  \\\n",
       "1681    8006336      21  ...        250               1        0          1   \n",
       "1682    8006336      21  ...        250               1        0          1   \n",
       "2230     545678      31  ...         16               1        0          7   \n",
       "2231     545678      31  ...         16               1        0          7   \n",
       "2232     545678      31  ...         16               1        0          7   \n",
       "...         ...     ...  ...        ...             ...      ...        ...   \n",
       "406532  2137903      23  ...         18               1        0          5   \n",
       "406533  2137903      23  ...         18               1        0          5   \n",
       "406534  2137903      23  ...         18               1        0          5   \n",
       "406535  2137903      23  ...         18               1        0          5   \n",
       "406536  2137903      23  ...         18               1        0          5   \n",
       "\n",
       "        INSU_DAYS  INSU_YEAR  MGG_GRP_CD  MGG_CD  MGG_CNT  MGG_AMT_SUM  \n",
       "1681          184          1          A1   A1399        1        32000  \n",
       "1682          184          1          A1   A1399        1        32000  \n",
       "2230           31          1          A4   A4199        1          160  \n",
       "2231           31          1          A1   A1100        1        16000  \n",
       "2232           31          1          A3   A3101        1        10000  \n",
       "...           ...        ...         ...     ...      ...          ...  \n",
       "406532         30          1         A94   A9499        1         1300  \n",
       "406533         30          1          A3   A3101        1        10000  \n",
       "406534         30          1          A1   A1399        1       270000  \n",
       "406535         30          1         A94   A9499        1         1300  \n",
       "406536         30          1          A3   A3101        1        10000  \n",
       "\n",
       "[1576 rows x 24 columns]"
      ]
     },
     "execution_count": 5,
     "metadata": {},
     "output_type": "execute_result"
    }
   ],
   "source": [
    "df_t = df[df.INS_GBN_CD == 14]\n",
    "df_t"
   ]
  },
  {
   "cell_type": "markdown",
   "id": "76ea6df7",
   "metadata": {},
   "source": [
    "## 담보(코드, 그룹코드) 구성"
   ]
  },
  {
   "cell_type": "code",
   "execution_count": 6,
   "id": "7baab03a",
   "metadata": {},
   "outputs": [
    {
     "data": {
      "text/plain": [
       "array(['A1', 'A4', 'A3', 'A6', 'A99', 'A94'], dtype=object)"
      ]
     },
     "execution_count": 6,
     "metadata": {},
     "output_type": "execute_result"
    }
   ],
   "source": [
    "df_t.MGG_GRP_CD.unique()"
   ]
  },
  {
   "cell_type": "code",
   "execution_count": 7,
   "id": "610efd0b",
   "metadata": {},
   "outputs": [],
   "source": [
    "grouped = df_t.groupby(\"INS_GBN_CD\")"
   ]
  },
  {
   "cell_type": "code",
   "execution_count": 8,
   "id": "c6f42ac4",
   "metadata": {},
   "outputs": [
    {
     "name": "stdout",
     "output_type": "stream",
     "text": [
      "보험종류 14\n",
      "A1 ['A1399' 'A1100' 'A1300' 'A1199']\n",
      "A4 ['A4199']\n",
      "A3 ['A3101' 'A3300' 'A3399' 'A3199' 'A3100' 'A3303']\n",
      "A6 ['A6300' 'A6100' 'A6999']\n",
      "A99 ['A9999']\n",
      "A94 ['A9499']\n"
     ]
    }
   ],
   "source": [
    "for key, group in grouped:\n",
    "    print(\"보험종류\", key)\n",
    "    for n in group.MGG_GRP_CD.unique():\n",
    "        print(n, df_t[df_t[\"MGG_GRP_CD\"] == n].MGG_CD.unique())"
   ]
  },
  {
   "cell_type": "code",
   "execution_count": 9,
   "id": "3de7997f",
   "metadata": {},
   "outputs": [
    {
     "name": "stderr",
     "output_type": "stream",
     "text": [
      "C:\\Users\\MULTIC~1\\AppData\\Local\\Temp/ipykernel_17176/225054449.py:2: SettingWithCopyWarning: \n",
      "A value is trying to be set on a copy of a slice from a DataFrame.\n",
      "Try using .loc[row_indexer,col_indexer] = value instead\n",
      "\n",
      "See the caveats in the documentation: https://pandas.pydata.org/pandas-docs/stable/user_guide/indexing.html#returning-a-view-versus-a-copy\n",
      "  df_t['MGG_GRP_CD_'] = df_t[\"MGG_GRP_CD\"].replace(['A1', 'A4', 'A3', 'A6', 'A99', 'A94'],\n"
     ]
    }
   ],
   "source": [
    "# 치환\n",
    "df_t['MGG_GRP_CD_'] = df_t[\"MGG_GRP_CD\"].replace(['A1', 'A4', 'A3', 'A6', 'A99', 'A94'],\n",
    "                          ['사망', '진단', '후유장해', '입원일당', '기타', '위로금'], inplace=False)"
   ]
  },
  {
   "cell_type": "code",
   "execution_count": 10,
   "id": "7fcfc363",
   "metadata": {},
   "outputs": [
    {
     "data": {
      "text/html": [
       "<div>\n",
       "<style scoped>\n",
       "    .dataframe tbody tr th:only-of-type {\n",
       "        vertical-align: middle;\n",
       "    }\n",
       "\n",
       "    .dataframe tbody tr th {\n",
       "        vertical-align: top;\n",
       "    }\n",
       "\n",
       "    .dataframe thead th {\n",
       "        text-align: right;\n",
       "    }\n",
       "</style>\n",
       "<table border=\"1\" class=\"dataframe\">\n",
       "  <thead>\n",
       "    <tr style=\"text-align: right;\">\n",
       "      <th></th>\n",
       "      <th>JOIN_SN</th>\n",
       "      <th>JOIN_SN_TYP</th>\n",
       "      <th>BTH_YR</th>\n",
       "      <th>GENDER</th>\n",
       "      <th>IS_KRN</th>\n",
       "      <th>AGE</th>\n",
       "      <th>SCTR_CD</th>\n",
       "      <th>COM_SN</th>\n",
       "      <th>POL_SN</th>\n",
       "      <th>GIS_CD</th>\n",
       "      <th>...</th>\n",
       "      <th>CT_PY_CYCLE_CD</th>\n",
       "      <th>CT_PY_PD</th>\n",
       "      <th>CT_CHNL_CD</th>\n",
       "      <th>INSU_DAYS</th>\n",
       "      <th>INSU_YEAR</th>\n",
       "      <th>MGG_GRP_CD</th>\n",
       "      <th>MGG_CD</th>\n",
       "      <th>MGG_CNT</th>\n",
       "      <th>MGG_AMT_SUM</th>\n",
       "      <th>MGG_GRP_CD_</th>\n",
       "    </tr>\n",
       "  </thead>\n",
       "  <tbody>\n",
       "    <tr>\n",
       "      <th>1681</th>\n",
       "      <td>195908</td>\n",
       "      <td>1</td>\n",
       "      <td>1993</td>\n",
       "      <td>1</td>\n",
       "      <td>1</td>\n",
       "      <td>30</td>\n",
       "      <td>6</td>\n",
       "      <td>7163853</td>\n",
       "      <td>8006336</td>\n",
       "      <td>21</td>\n",
       "      <td>...</td>\n",
       "      <td>1</td>\n",
       "      <td>0</td>\n",
       "      <td>1</td>\n",
       "      <td>184</td>\n",
       "      <td>1</td>\n",
       "      <td>A1</td>\n",
       "      <td>A1399</td>\n",
       "      <td>1</td>\n",
       "      <td>32000</td>\n",
       "      <td>사망</td>\n",
       "    </tr>\n",
       "    <tr>\n",
       "      <th>1682</th>\n",
       "      <td>195908</td>\n",
       "      <td>1</td>\n",
       "      <td>1993</td>\n",
       "      <td>1</td>\n",
       "      <td>1</td>\n",
       "      <td>30</td>\n",
       "      <td>6</td>\n",
       "      <td>7163853</td>\n",
       "      <td>8006336</td>\n",
       "      <td>21</td>\n",
       "      <td>...</td>\n",
       "      <td>1</td>\n",
       "      <td>0</td>\n",
       "      <td>1</td>\n",
       "      <td>184</td>\n",
       "      <td>1</td>\n",
       "      <td>A1</td>\n",
       "      <td>A1399</td>\n",
       "      <td>1</td>\n",
       "      <td>32000</td>\n",
       "      <td>사망</td>\n",
       "    </tr>\n",
       "    <tr>\n",
       "      <th>2230</th>\n",
       "      <td>880454</td>\n",
       "      <td>1</td>\n",
       "      <td>1992</td>\n",
       "      <td>2</td>\n",
       "      <td>1</td>\n",
       "      <td>31</td>\n",
       "      <td>6</td>\n",
       "      <td>2443</td>\n",
       "      <td>545678</td>\n",
       "      <td>31</td>\n",
       "      <td>...</td>\n",
       "      <td>1</td>\n",
       "      <td>0</td>\n",
       "      <td>7</td>\n",
       "      <td>31</td>\n",
       "      <td>1</td>\n",
       "      <td>A4</td>\n",
       "      <td>A4199</td>\n",
       "      <td>1</td>\n",
       "      <td>160</td>\n",
       "      <td>진단</td>\n",
       "    </tr>\n",
       "    <tr>\n",
       "      <th>2231</th>\n",
       "      <td>880454</td>\n",
       "      <td>1</td>\n",
       "      <td>1992</td>\n",
       "      <td>2</td>\n",
       "      <td>1</td>\n",
       "      <td>31</td>\n",
       "      <td>6</td>\n",
       "      <td>2443</td>\n",
       "      <td>545678</td>\n",
       "      <td>31</td>\n",
       "      <td>...</td>\n",
       "      <td>1</td>\n",
       "      <td>0</td>\n",
       "      <td>7</td>\n",
       "      <td>31</td>\n",
       "      <td>1</td>\n",
       "      <td>A1</td>\n",
       "      <td>A1100</td>\n",
       "      <td>1</td>\n",
       "      <td>16000</td>\n",
       "      <td>사망</td>\n",
       "    </tr>\n",
       "    <tr>\n",
       "      <th>2232</th>\n",
       "      <td>880454</td>\n",
       "      <td>1</td>\n",
       "      <td>1992</td>\n",
       "      <td>2</td>\n",
       "      <td>1</td>\n",
       "      <td>31</td>\n",
       "      <td>6</td>\n",
       "      <td>2443</td>\n",
       "      <td>545678</td>\n",
       "      <td>31</td>\n",
       "      <td>...</td>\n",
       "      <td>1</td>\n",
       "      <td>0</td>\n",
       "      <td>7</td>\n",
       "      <td>31</td>\n",
       "      <td>1</td>\n",
       "      <td>A3</td>\n",
       "      <td>A3101</td>\n",
       "      <td>1</td>\n",
       "      <td>10000</td>\n",
       "      <td>후유장해</td>\n",
       "    </tr>\n",
       "    <tr>\n",
       "      <th>...</th>\n",
       "      <td>...</td>\n",
       "      <td>...</td>\n",
       "      <td>...</td>\n",
       "      <td>...</td>\n",
       "      <td>...</td>\n",
       "      <td>...</td>\n",
       "      <td>...</td>\n",
       "      <td>...</td>\n",
       "      <td>...</td>\n",
       "      <td>...</td>\n",
       "      <td>...</td>\n",
       "      <td>...</td>\n",
       "      <td>...</td>\n",
       "      <td>...</td>\n",
       "      <td>...</td>\n",
       "      <td>...</td>\n",
       "      <td>...</td>\n",
       "      <td>...</td>\n",
       "      <td>...</td>\n",
       "      <td>...</td>\n",
       "      <td>...</td>\n",
       "    </tr>\n",
       "    <tr>\n",
       "      <th>406532</th>\n",
       "      <td>979312</td>\n",
       "      <td>1</td>\n",
       "      <td>2002</td>\n",
       "      <td>1</td>\n",
       "      <td>1</td>\n",
       "      <td>21</td>\n",
       "      <td>6</td>\n",
       "      <td>5695546</td>\n",
       "      <td>2137903</td>\n",
       "      <td>23</td>\n",
       "      <td>...</td>\n",
       "      <td>1</td>\n",
       "      <td>0</td>\n",
       "      <td>5</td>\n",
       "      <td>30</td>\n",
       "      <td>1</td>\n",
       "      <td>A94</td>\n",
       "      <td>A9499</td>\n",
       "      <td>1</td>\n",
       "      <td>1300</td>\n",
       "      <td>위로금</td>\n",
       "    </tr>\n",
       "    <tr>\n",
       "      <th>406533</th>\n",
       "      <td>979312</td>\n",
       "      <td>1</td>\n",
       "      <td>2002</td>\n",
       "      <td>1</td>\n",
       "      <td>1</td>\n",
       "      <td>21</td>\n",
       "      <td>6</td>\n",
       "      <td>5695546</td>\n",
       "      <td>2137903</td>\n",
       "      <td>23</td>\n",
       "      <td>...</td>\n",
       "      <td>1</td>\n",
       "      <td>0</td>\n",
       "      <td>5</td>\n",
       "      <td>30</td>\n",
       "      <td>1</td>\n",
       "      <td>A3</td>\n",
       "      <td>A3101</td>\n",
       "      <td>1</td>\n",
       "      <td>10000</td>\n",
       "      <td>후유장해</td>\n",
       "    </tr>\n",
       "    <tr>\n",
       "      <th>406534</th>\n",
       "      <td>979312</td>\n",
       "      <td>1</td>\n",
       "      <td>2002</td>\n",
       "      <td>1</td>\n",
       "      <td>1</td>\n",
       "      <td>21</td>\n",
       "      <td>6</td>\n",
       "      <td>5695546</td>\n",
       "      <td>2137903</td>\n",
       "      <td>23</td>\n",
       "      <td>...</td>\n",
       "      <td>1</td>\n",
       "      <td>0</td>\n",
       "      <td>5</td>\n",
       "      <td>30</td>\n",
       "      <td>1</td>\n",
       "      <td>A1</td>\n",
       "      <td>A1399</td>\n",
       "      <td>1</td>\n",
       "      <td>270000</td>\n",
       "      <td>사망</td>\n",
       "    </tr>\n",
       "    <tr>\n",
       "      <th>406535</th>\n",
       "      <td>979312</td>\n",
       "      <td>1</td>\n",
       "      <td>2002</td>\n",
       "      <td>1</td>\n",
       "      <td>1</td>\n",
       "      <td>21</td>\n",
       "      <td>6</td>\n",
       "      <td>5695546</td>\n",
       "      <td>2137903</td>\n",
       "      <td>23</td>\n",
       "      <td>...</td>\n",
       "      <td>1</td>\n",
       "      <td>0</td>\n",
       "      <td>5</td>\n",
       "      <td>30</td>\n",
       "      <td>1</td>\n",
       "      <td>A94</td>\n",
       "      <td>A9499</td>\n",
       "      <td>1</td>\n",
       "      <td>1300</td>\n",
       "      <td>위로금</td>\n",
       "    </tr>\n",
       "    <tr>\n",
       "      <th>406536</th>\n",
       "      <td>979312</td>\n",
       "      <td>1</td>\n",
       "      <td>2002</td>\n",
       "      <td>1</td>\n",
       "      <td>1</td>\n",
       "      <td>21</td>\n",
       "      <td>6</td>\n",
       "      <td>5695546</td>\n",
       "      <td>2137903</td>\n",
       "      <td>23</td>\n",
       "      <td>...</td>\n",
       "      <td>1</td>\n",
       "      <td>0</td>\n",
       "      <td>5</td>\n",
       "      <td>30</td>\n",
       "      <td>1</td>\n",
       "      <td>A3</td>\n",
       "      <td>A3101</td>\n",
       "      <td>1</td>\n",
       "      <td>10000</td>\n",
       "      <td>후유장해</td>\n",
       "    </tr>\n",
       "  </tbody>\n",
       "</table>\n",
       "<p>1576 rows × 25 columns</p>\n",
       "</div>"
      ],
      "text/plain": [
       "        JOIN_SN  JOIN_SN_TYP  BTH_YR  GENDER  IS_KRN  AGE  SCTR_CD   COM_SN  \\\n",
       "1681     195908            1    1993       1       1   30        6  7163853   \n",
       "1682     195908            1    1993       1       1   30        6  7163853   \n",
       "2230     880454            1    1992       2       1   31        6     2443   \n",
       "2231     880454            1    1992       2       1   31        6     2443   \n",
       "2232     880454            1    1992       2       1   31        6     2443   \n",
       "...         ...          ...     ...     ...     ...  ...      ...      ...   \n",
       "406532   979312            1    2002       1       1   21        6  5695546   \n",
       "406533   979312            1    2002       1       1   21        6  5695546   \n",
       "406534   979312            1    2002       1       1   21        6  5695546   \n",
       "406535   979312            1    2002       1       1   21        6  5695546   \n",
       "406536   979312            1    2002       1       1   21        6  5695546   \n",
       "\n",
       "         POL_SN  GIS_CD  ...  CT_PY_CYCLE_CD  CT_PY_PD CT_CHNL_CD INSU_DAYS  \\\n",
       "1681    8006336      21  ...               1         0          1       184   \n",
       "1682    8006336      21  ...               1         0          1       184   \n",
       "2230     545678      31  ...               1         0          7        31   \n",
       "2231     545678      31  ...               1         0          7        31   \n",
       "2232     545678      31  ...               1         0          7        31   \n",
       "...         ...     ...  ...             ...       ...        ...       ...   \n",
       "406532  2137903      23  ...               1         0          5        30   \n",
       "406533  2137903      23  ...               1         0          5        30   \n",
       "406534  2137903      23  ...               1         0          5        30   \n",
       "406535  2137903      23  ...               1         0          5        30   \n",
       "406536  2137903      23  ...               1         0          5        30   \n",
       "\n",
       "        INSU_YEAR  MGG_GRP_CD  MGG_CD  MGG_CNT  MGG_AMT_SUM  MGG_GRP_CD_  \n",
       "1681            1          A1   A1399        1        32000           사망  \n",
       "1682            1          A1   A1399        1        32000           사망  \n",
       "2230            1          A4   A4199        1          160           진단  \n",
       "2231            1          A1   A1100        1        16000           사망  \n",
       "2232            1          A3   A3101        1        10000         후유장해  \n",
       "...           ...         ...     ...      ...          ...          ...  \n",
       "406532          1         A94   A9499        1         1300          위로금  \n",
       "406533          1          A3   A3101        1        10000         후유장해  \n",
       "406534          1          A1   A1399        1       270000           사망  \n",
       "406535          1         A94   A9499        1         1300          위로금  \n",
       "406536          1          A3   A3101        1        10000         후유장해  \n",
       "\n",
       "[1576 rows x 25 columns]"
      ]
     },
     "execution_count": 10,
     "metadata": {},
     "output_type": "execute_result"
    }
   ],
   "source": [
    "df_t"
   ]
  },
  {
   "cell_type": "code",
   "execution_count": 11,
   "id": "4d92b7b8",
   "metadata": {},
   "outputs": [
    {
     "data": {
      "text/plain": [
       "CT_PY_PD\n",
       "0    63.979513\n",
       "1    31.000000\n",
       "Name: INSU_DAYS, dtype: float64"
      ]
     },
     "execution_count": 11,
     "metadata": {},
     "output_type": "execute_result"
    }
   ],
   "source": [
    "df_t.groupby(\"CT_PY_PD\").mean().INSU_DAYS"
   ]
  },
  {
   "cell_type": "code",
   "execution_count": 12,
   "id": "cdf96775",
   "metadata": {},
   "outputs": [
    {
     "data": {
      "text/plain": [
       "180137    31\n",
       "180138    31\n",
       "180139    31\n",
       "180140    31\n",
       "302690    31\n",
       "302691    31\n",
       "302692    31\n",
       "302693    31\n",
       "302694    31\n",
       "302695    31\n",
       "302696    31\n",
       "302697    31\n",
       "302698    31\n",
       "302699    31\n",
       "Name: INSU_DAYS, dtype: int64"
      ]
     },
     "execution_count": 12,
     "metadata": {},
     "output_type": "execute_result"
    }
   ],
   "source": [
    "# 납입기간이 1일때?\n",
    "df_t[df_t.CT_PY_PD == 1].INSU_DAYS"
   ]
  },
  {
   "cell_type": "code",
   "execution_count": 13,
   "id": "5ee1316d",
   "metadata": {},
   "outputs": [
    {
     "name": "stderr",
     "output_type": "stream",
     "text": [
      "C:\\ProgramData\\Anaconda3\\lib\\site-packages\\seaborn\\distributions.py:2619: FutureWarning: `distplot` is a deprecated function and will be removed in a future version. Please adapt your code to use either `displot` (a figure-level function with similar flexibility) or `histplot` (an axes-level function for histograms).\n",
      "  warnings.warn(msg, FutureWarning)\n"
     ]
    },
    {
     "data": {
      "text/plain": [
       "<AxesSubplot:xlabel='INSU_DAYS', ylabel='Density'>"
      ]
     },
     "execution_count": 13,
     "metadata": {},
     "output_type": "execute_result"
    },
    {
     "data": {
      "image/png": "[encoded data removed]",
      "text/plain": [
       "<Figure size 432x288 with 1 Axes>"
      ]
     },
     "metadata": {
      "needs_background": "light"
     },
     "output_type": "display_data"
    }
   ],
   "source": [
    "sns.distplot(df_t[df_t.CT_PY_PD == 0][\"INSU_DAYS\"])"
   ]
  },
  {
   "cell_type": "code",
   "execution_count": 14,
   "id": "8eb57c6d",
   "metadata": {},
   "outputs": [
    {
     "data": {
      "image/png": "[encoded data removed]",
      "text/plain": [
       "<Figure size 432x288 with 1 Axes>"
      ]
     },
     "metadata": {},
     "output_type": "display_data"
    }
   ],
   "source": [
    "grouped = df_t.groupby(\"MGG_GRP_CD_\").count()\n",
    "\n",
    "mgg_arr = []\n",
    "labels = []\n",
    "\n",
    "for i in df_t.MGG_GRP_CD_.unique():\n",
    "    mgg_arr.append(grouped[\"JOIN_SN\"][i])\n",
    "    labels.append(i)\n",
    "plt.pie(mgg_arr, labels=labels)\n",
    "plt.show()"
   ]
  },
  {
   "cell_type": "markdown",
   "id": "fbe34663",
   "metadata": {},
   "source": [
    "## 납입주기코드 먼저 봐서 연납.월납.일시납 중 뭐가 많은지"
   ]
  },
  {
   "cell_type": "code",
   "execution_count": 15,
   "id": "64c1eceb",
   "metadata": {
    "scrolled": true
   },
   "outputs": [
    {
     "data": {
      "text/html": [
       "<div>\n",
       "<style scoped>\n",
       "    .dataframe tbody tr th:only-of-type {\n",
       "        vertical-align: middle;\n",
       "    }\n",
       "\n",
       "    .dataframe tbody tr th {\n",
       "        vertical-align: top;\n",
       "    }\n",
       "\n",
       "    .dataframe thead th {\n",
       "        text-align: right;\n",
       "    }\n",
       "</style>\n",
       "<table border=\"1\" class=\"dataframe\">\n",
       "  <thead>\n",
       "    <tr style=\"text-align: right;\">\n",
       "      <th></th>\n",
       "      <th>JOIN_SN</th>\n",
       "      <th>JOIN_SN_TYP</th>\n",
       "      <th>BTH_YR</th>\n",
       "      <th>GENDER</th>\n",
       "      <th>IS_KRN</th>\n",
       "      <th>AGE</th>\n",
       "      <th>SCTR_CD</th>\n",
       "      <th>COM_SN</th>\n",
       "      <th>POL_SN</th>\n",
       "      <th>GIS_CD</th>\n",
       "      <th>...</th>\n",
       "      <th>CT_PY_AMT</th>\n",
       "      <th>CT_PY_PD</th>\n",
       "      <th>CT_CHNL_CD</th>\n",
       "      <th>INSU_DAYS</th>\n",
       "      <th>INSU_YEAR</th>\n",
       "      <th>MGG_GRP_CD</th>\n",
       "      <th>MGG_CD</th>\n",
       "      <th>MGG_CNT</th>\n",
       "      <th>MGG_AMT_SUM</th>\n",
       "      <th>MGG_GRP_CD_</th>\n",
       "    </tr>\n",
       "    <tr>\n",
       "      <th>CT_PY_CYCLE_CD</th>\n",
       "      <th></th>\n",
       "      <th></th>\n",
       "      <th></th>\n",
       "      <th></th>\n",
       "      <th></th>\n",
       "      <th></th>\n",
       "      <th></th>\n",
       "      <th></th>\n",
       "      <th></th>\n",
       "      <th></th>\n",
       "      <th></th>\n",
       "      <th></th>\n",
       "      <th></th>\n",
       "      <th></th>\n",
       "      <th></th>\n",
       "      <th></th>\n",
       "      <th></th>\n",
       "      <th></th>\n",
       "      <th></th>\n",
       "      <th></th>\n",
       "      <th></th>\n",
       "    </tr>\n",
       "  </thead>\n",
       "  <tbody>\n",
       "    <tr>\n",
       "      <th>1</th>\n",
       "      <td>1576</td>\n",
       "      <td>1576</td>\n",
       "      <td>1576</td>\n",
       "      <td>1576</td>\n",
       "      <td>1576</td>\n",
       "      <td>1576</td>\n",
       "      <td>1576</td>\n",
       "      <td>1576</td>\n",
       "      <td>1576</td>\n",
       "      <td>1576</td>\n",
       "      <td>...</td>\n",
       "      <td>1576</td>\n",
       "      <td>1576</td>\n",
       "      <td>1576</td>\n",
       "      <td>1576</td>\n",
       "      <td>1576</td>\n",
       "      <td>1576</td>\n",
       "      <td>1576</td>\n",
       "      <td>1576</td>\n",
       "      <td>1576</td>\n",
       "      <td>1576</td>\n",
       "    </tr>\n",
       "  </tbody>\n",
       "</table>\n",
       "<p>1 rows × 24 columns</p>\n",
       "</div>"
      ],
      "text/plain": [
       "                JOIN_SN  JOIN_SN_TYP  BTH_YR  GENDER  IS_KRN   AGE  SCTR_CD  \\\n",
       "CT_PY_CYCLE_CD                                                                \n",
       "1                  1576         1576    1576    1576    1576  1576     1576   \n",
       "\n",
       "                COM_SN  POL_SN  GIS_CD  ...  CT_PY_AMT  CT_PY_PD  CT_CHNL_CD  \\\n",
       "CT_PY_CYCLE_CD                          ...                                    \n",
       "1                 1576    1576    1576  ...       1576      1576        1576   \n",
       "\n",
       "                INSU_DAYS  INSU_YEAR  MGG_GRP_CD  MGG_CD  MGG_CNT  \\\n",
       "CT_PY_CYCLE_CD                                                      \n",
       "1                    1576       1576        1576    1576     1576   \n",
       "\n",
       "                MGG_AMT_SUM  MGG_GRP_CD_  \n",
       "CT_PY_CYCLE_CD                            \n",
       "1                      1576         1576  \n",
       "\n",
       "[1 rows x 24 columns]"
      ]
     },
     "execution_count": 15,
     "metadata": {},
     "output_type": "execute_result"
    }
   ],
   "source": [
    "df_t.groupby(\"CT_PY_CYCLE_CD\").count() # 모두 1 => 일시납"
   ]
  },
  {
   "cell_type": "markdown",
   "id": "a3c0fe7a",
   "metadata": {},
   "source": [
    "## 가장 많이 선택된 납입코드의 납입기간은 어떤 비율인지."
   ]
  },
  {
   "cell_type": "code",
   "execution_count": 16,
   "id": "d1d152fe",
   "metadata": {},
   "outputs": [
    {
     "data": {
      "text/plain": [
       "CT_PY_PD\n",
       "0    1562\n",
       "1      14\n",
       "Name: JOIN_SN, dtype: int64"
      ]
     },
     "execution_count": 16,
     "metadata": {},
     "output_type": "execute_result"
    }
   ],
   "source": [
    "df_t[df_t.CT_PY_CYCLE_CD == 1].groupby(\"CT_PY_PD\").count().JOIN_SN"
   ]
  },
  {
   "cell_type": "markdown",
   "id": "f442d9d5",
   "metadata": {},
   "source": [
    "## 보험기간(종기월 - 시기월)의 비율을 어떠한지"
   ]
  },
  {
   "cell_type": "code",
   "execution_count": 17,
   "id": "7a48cf75",
   "metadata": {},
   "outputs": [
    {
     "name": "stdout",
     "output_type": "stream",
     "text": [
      "<class 'pandas.core.frame.DataFrame'>\n",
      "Int64Index: 1576 entries, 1681 to 406536\n",
      "Data columns (total 25 columns):\n",
      " #   Column          Non-Null Count  Dtype \n",
      "---  ------          --------------  ----- \n",
      " 0   JOIN_SN         1576 non-null   int64 \n",
      " 1   JOIN_SN_TYP     1576 non-null   int64 \n",
      " 2   BTH_YR          1576 non-null   int64 \n",
      " 3   GENDER          1576 non-null   int64 \n",
      " 4   IS_KRN          1576 non-null   int64 \n",
      " 5   AGE             1576 non-null   int64 \n",
      " 6   SCTR_CD         1576 non-null   int64 \n",
      " 7   COM_SN          1576 non-null   int64 \n",
      " 8   POL_SN          1576 non-null   int64 \n",
      " 9   GIS_CD          1576 non-null   int64 \n",
      " 10  INS_GBN_CD      1576 non-null   int64 \n",
      " 11  INS_CT_STAT_CD  1576 non-null   int64 \n",
      " 12  CT_ST_DT        1576 non-null   object\n",
      " 13  CT_END_DT       1576 non-null   object\n",
      " 14  CT_PY_AMT       1576 non-null   int64 \n",
      " 15  CT_PY_CYCLE_CD  1576 non-null   int64 \n",
      " 16  CT_PY_PD        1576 non-null   int64 \n",
      " 17  CT_CHNL_CD      1576 non-null   int64 \n",
      " 18  INSU_DAYS       1576 non-null   int64 \n",
      " 19  INSU_YEAR       1576 non-null   int64 \n",
      " 20  MGG_GRP_CD      1576 non-null   object\n",
      " 21  MGG_CD          1576 non-null   object\n",
      " 22  MGG_CNT         1576 non-null   int64 \n",
      " 23  MGG_AMT_SUM     1576 non-null   int64 \n",
      " 24  MGG_GRP_CD_     1576 non-null   object\n",
      "dtypes: int64(20), object(5)\n",
      "memory usage: 320.1+ KB\n"
     ]
    }
   ],
   "source": [
    "df_t.info()"
   ]
  },
  {
   "cell_type": "code",
   "execution_count": 18,
   "id": "176558e5",
   "metadata": {},
   "outputs": [
    {
     "data": {
      "text/html": [
       "<div>\n",
       "<style scoped>\n",
       "    .dataframe tbody tr th:only-of-type {\n",
       "        vertical-align: middle;\n",
       "    }\n",
       "\n",
       "    .dataframe tbody tr th {\n",
       "        vertical-align: top;\n",
       "    }\n",
       "\n",
       "    .dataframe thead th {\n",
       "        text-align: right;\n",
       "    }\n",
       "</style>\n",
       "<table border=\"1\" class=\"dataframe\">\n",
       "  <thead>\n",
       "    <tr style=\"text-align: right;\">\n",
       "      <th></th>\n",
       "      <th>CT_END_DT</th>\n",
       "      <th>CT_ST_DT</th>\n",
       "      <th>INSU_DAYS</th>\n",
       "    </tr>\n",
       "  </thead>\n",
       "  <tbody>\n",
       "    <tr>\n",
       "      <th>1681</th>\n",
       "      <td>2020-01-01</td>\n",
       "      <td>2019-07-01</td>\n",
       "      <td>184</td>\n",
       "    </tr>\n",
       "    <tr>\n",
       "      <th>1682</th>\n",
       "      <td>2020-01-01</td>\n",
       "      <td>2019-07-01</td>\n",
       "      <td>184</td>\n",
       "    </tr>\n",
       "    <tr>\n",
       "      <th>2230</th>\n",
       "      <td>2018-09-01</td>\n",
       "      <td>2018-08-01</td>\n",
       "      <td>31</td>\n",
       "    </tr>\n",
       "    <tr>\n",
       "      <th>2231</th>\n",
       "      <td>2018-09-01</td>\n",
       "      <td>2018-08-01</td>\n",
       "      <td>31</td>\n",
       "    </tr>\n",
       "    <tr>\n",
       "      <th>2232</th>\n",
       "      <td>2018-09-01</td>\n",
       "      <td>2018-08-01</td>\n",
       "      <td>31</td>\n",
       "    </tr>\n",
       "  </tbody>\n",
       "</table>\n",
       "</div>"
      ],
      "text/plain": [
       "       CT_END_DT    CT_ST_DT  INSU_DAYS\n",
       "1681  2020-01-01  2019-07-01        184\n",
       "1682  2020-01-01  2019-07-01        184\n",
       "2230  2018-09-01  2018-08-01         31\n",
       "2231  2018-09-01  2018-08-01         31\n",
       "2232  2018-09-01  2018-08-01         31"
      ]
     },
     "execution_count": 18,
     "metadata": {},
     "output_type": "execute_result"
    }
   ],
   "source": [
    "df_t[[\"CT_END_DT\", \"CT_ST_DT\", \"INSU_DAYS\"]].head()"
   ]
  },
  {
   "cell_type": "code",
   "execution_count": 19,
   "id": "b4d0d872",
   "metadata": {},
   "outputs": [],
   "source": [
    "# df_t['CT_END_DT'] = pd.to_datetime(df_t['CT_END_DT'], format='%Y%m', errors='coerce')\n",
    "# df_t['CT_ST_DT'] = pd.to_datetime(df_t['CT_ST_DT'], format='%Y%m', errors='coerce')"
   ]
  },
  {
   "cell_type": "code",
   "execution_count": 20,
   "id": "cddd66b6",
   "metadata": {},
   "outputs": [],
   "source": [
    "# 보장기간(CT_PD) 컬럼 생성\n",
    "\n",
    "# df_t['CT_PD'] = (df_t['CT_END_DT'] - df_t['CT_ST_DT']).dt.days"
   ]
  },
  {
   "cell_type": "code",
   "execution_count": 21,
   "id": "fafdac13",
   "metadata": {},
   "outputs": [],
   "source": [
    "# df_t[[\"CT_END_DT\", \"CT_ST_DT\", \"CT_PD\"]].head(50)"
   ]
  },
  {
   "cell_type": "code",
   "execution_count": 22,
   "id": "f6fc4246",
   "metadata": {},
   "outputs": [],
   "source": [
    "# df_t[df_t.CT_PD == 0][[\"CT_END_DT\", \"CT_ST_DT\"]]"
   ]
  },
  {
   "cell_type": "code",
   "execution_count": 23,
   "id": "46f63c69",
   "metadata": {},
   "outputs": [
    {
     "data": {
      "text/plain": [
       "count    1576.000000\n",
       "mean       63.686548\n",
       "std        94.474947\n",
       "min         0.000000\n",
       "25%        30.000000\n",
       "50%        31.000000\n",
       "75%        60.000000\n",
       "max       366.000000\n",
       "Name: INSU_DAYS, dtype: float64"
      ]
     },
     "execution_count": 23,
     "metadata": {},
     "output_type": "execute_result"
    }
   ],
   "source": [
    "df_t.INSU_DAYS.describe()"
   ]
  },
  {
   "cell_type": "code",
   "execution_count": 24,
   "id": "35652f22",
   "metadata": {},
   "outputs": [
    {
     "data": {
      "text/plain": [
       "array([184,  31, 181,  30,   0,  60, 365, 213, 183,  28,  61, 153,  59,\n",
       "       122, 366, 306, 305,  29, 123, 244, 214, 334,  90,  91,  92, 150,\n",
       "        62, 152, 303, 243, 304, 212, 120, 335], dtype=int64)"
      ]
     },
     "execution_count": 24,
     "metadata": {},
     "output_type": "execute_result"
    }
   ],
   "source": [
    "df_t.INSU_DAYS.unique()"
   ]
  },
  {
   "cell_type": "code",
   "execution_count": 25,
   "id": "872b4266",
   "metadata": {},
   "outputs": [
    {
     "name": "stderr",
     "output_type": "stream",
     "text": [
      "C:\\ProgramData\\Anaconda3\\lib\\site-packages\\seaborn\\_decorators.py:36: FutureWarning: Pass the following variables as keyword args: x, y. From version 0.12, the only valid positional argument will be `data`, and passing other arguments without an explicit keyword will result in an error or misinterpretation.\n",
      "  warnings.warn(\n"
     ]
    },
    {
     "data": {
      "text/plain": [
       "<AxesSubplot:xlabel='INSU_DAYS', ylabel='CT_PY_AMT'>"
      ]
     },
     "execution_count": 25,
     "metadata": {},
     "output_type": "execute_result"
    },
    {
     "data": {
      "image/png": "[encoded data removed]",
      "text/plain": [
       "<Figure size 432x288 with 1 Axes>"
      ]
     },
     "metadata": {
      "needs_background": "light"
     },
     "output_type": "display_data"
    }
   ],
   "source": [
    "# 보장기간별 납입금액 분포\n",
    "sns.barplot(df_t[\"INSU_DAYS\"], df_t[\"CT_PY_AMT\"])"
   ]
  },
  {
   "cell_type": "code",
   "execution_count": 26,
   "id": "31ce01c5",
   "metadata": {},
   "outputs": [],
   "source": [
    "# 보장기간이 한달인 경우의 납입보험료\n",
    "# df_t[df_t.CT_PD == 1].groupby(\"CT_PY_AMT\").count()"
   ]
  },
  {
   "cell_type": "code",
   "execution_count": 27,
   "id": "bb9b9202",
   "metadata": {},
   "outputs": [],
   "source": [
    "# 보장기간 한달의 납입금액 비율 시각화 (천단위)\n",
    "# df_group = df_t[df_t.CT_PD == 1].groupby(\"CT_PY_AMT\").count()\n",
    "# df_group = df_t.groupby(\"INSU_DAYS\").count()\n",
    "\n",
    "# CT_PD_arr = []\n",
    "# labels=[]\n",
    "# for i in df_t[df_t.CT_PD == 1].CT_PY_AMT.unique():\n",
    "#     CT_PD_arr.append(df_group[\"JOIN_SN\"][i])\n",
    "#     labels.append(i)\n",
    "# plt.pie(CT_PD_arr, labels=labels)\n",
    "# plt.show()"
   ]
  },
  {
   "cell_type": "code",
   "execution_count": 28,
   "id": "1c86343b",
   "metadata": {},
   "outputs": [
    {
     "data": {
      "text/plain": [
       "98"
      ]
     },
     "execution_count": 28,
     "metadata": {},
     "output_type": "execute_result"
    }
   ],
   "source": [
    "len(df_t[df_t.INSU_DAYS >= 365])"
   ]
  },
  {
   "cell_type": "code",
   "execution_count": 29,
   "id": "42b70a6c",
   "metadata": {},
   "outputs": [
    {
     "data": {
      "image/png": "[encoded data removed]",
      "text/plain": [
       "<Figure size 432x288 with 1 Axes>"
      ]
     },
     "metadata": {},
     "output_type": "display_data"
    }
   ],
   "source": [
    "# 보장기간 비율 시각화 (월단위)\n",
    "\n",
    "df_group = df_t.groupby(\"INSU_DAYS\").count()\n",
    "\n",
    "CT_PD_arr = []\n",
    "labels=[]\n",
    "for i in df_t.INSU_DAYS.unique():\n",
    "    CT_PD_arr.append(df_group[\"JOIN_SN\"][i])\n",
    "    labels.append(i)\n",
    "plt.pie(CT_PD_arr, labels=labels)\n",
    "plt.show()\n",
    "\n",
    "# 31일이 가장 많다 => 한 달 데이터를 가지고 => 1/2 일주일로 변환 (일주일 디폴트)"
   ]
  },
  {
   "cell_type": "code",
   "execution_count": 30,
   "id": "ab193a15",
   "metadata": {
    "scrolled": true
   },
   "outputs": [],
   "source": [
    "# 한달이하, 한달\n",
    "# len(df_t[df_t[\"CT_PD\"] == 0]), len(df_t[df_t[\"CT_PD\"] == 1])"
   ]
  },
  {
   "cell_type": "code",
   "execution_count": 31,
   "id": "26498d4d",
   "metadata": {},
   "outputs": [],
   "source": [
    "df_t = df_t[(df_t.INSU_DAYS == 29) | (df_t.INSU_DAYS == 30) | (df_t.INSU_DAYS == 31)]"
   ]
  },
  {
   "cell_type": "code",
   "execution_count": 32,
   "id": "ccbc4471",
   "metadata": {
    "scrolled": true
   },
   "outputs": [
    {
     "name": "stderr",
     "output_type": "stream",
     "text": [
      "C:\\Users\\MULTIC~1\\AppData\\Local\\Temp/ipykernel_17176/1475729797.py:3: SettingWithCopyWarning: \n",
      "A value is trying to be set on a copy of a slice from a DataFrame.\n",
      "Try using .loc[row_indexer,col_indexer] = value instead\n",
      "\n",
      "See the caveats in the documentation: https://pandas.pydata.org/pandas-docs/stable/user_guide/indexing.html#returning-a-view-versus-a-copy\n",
      "  df_t[\"CT_PY_AMT\"] = df_t[\"CT_PY_AMT\"] / 3\n"
     ]
    }
   ],
   "source": [
    "# 납입금액 1/2\n",
    "\n",
    "df_t[\"CT_PY_AMT\"] = df_t[\"CT_PY_AMT\"] / 3"
   ]
  },
  {
   "cell_type": "code",
   "execution_count": 33,
   "id": "dd601d89",
   "metadata": {},
   "outputs": [
    {
     "name": "stderr",
     "output_type": "stream",
     "text": [
      "C:\\ProgramData\\Anaconda3\\lib\\site-packages\\seaborn\\_decorators.py:36: FutureWarning: Pass the following variables as keyword args: x, y. From version 0.12, the only valid positional argument will be `data`, and passing other arguments without an explicit keyword will result in an error or misinterpretation.\n",
      "  warnings.warn(\n"
     ]
    },
    {
     "data": {
      "text/plain": [
       "<AxesSubplot:xlabel='INSU_DAYS', ylabel='CT_PY_AMT'>"
      ]
     },
     "execution_count": 33,
     "metadata": {},
     "output_type": "execute_result"
    },
    {
     "data": {
      "image/png": "[encoded data removed]",
      "text/plain": [
       "<Figure size 432x288 with 1 Axes>"
      ]
     },
     "metadata": {
      "needs_background": "light"
     },
     "output_type": "display_data"
    }
   ],
   "source": [
    "# 전처리 후 보장기간 별 납입금액\n",
    "sns.barplot(df_t[\"INSU_DAYS\"], df_t[\"CT_PY_AMT\"])"
   ]
  },
  {
   "cell_type": "code",
   "execution_count": 34,
   "id": "c0e14214",
   "metadata": {
    "scrolled": false
   },
   "outputs": [
    {
     "data": {
      "text/plain": [
       "count    799.000000\n",
       "mean       7.556529\n",
       "std        6.706219\n",
       "min        0.666667\n",
       "25%        3.000000\n",
       "50%        5.333333\n",
       "75%        9.333333\n",
       "max       40.000000\n",
       "Name: CT_PY_AMT, dtype: float64"
      ]
     },
     "execution_count": 34,
     "metadata": {},
     "output_type": "execute_result"
    }
   ],
   "source": [
    "df_t.CT_PY_AMT.describe() #8천원~만원 3으로 나누기"
   ]
  },
  {
   "cell_type": "code",
   "execution_count": 35,
   "id": "6c554fd0",
   "metadata": {},
   "outputs": [
    {
     "name": "stderr",
     "output_type": "stream",
     "text": [
      "C:\\ProgramData\\Anaconda3\\lib\\site-packages\\seaborn\\distributions.py:2619: FutureWarning: `distplot` is a deprecated function and will be removed in a future version. Please adapt your code to use either `displot` (a figure-level function with similar flexibility) or `histplot` (an axes-level function for histograms).\n",
      "  warnings.warn(msg, FutureWarning)\n"
     ]
    },
    {
     "data": {
      "text/plain": [
       "<AxesSubplot:xlabel='CT_PY_AMT', ylabel='Density'>"
      ]
     },
     "execution_count": 35,
     "metadata": {},
     "output_type": "execute_result"
    },
    {
     "data": {
      "image/png": "[encoded data removed]",
      "text/plain": [
       "<Figure size 432x288 with 1 Axes>"
      ]
     },
     "metadata": {
      "needs_background": "light"
     },
     "output_type": "display_data"
    }
   ],
   "source": [
    "# 납입금액 분포\n",
    "sns.distplot(df_t[\"CT_PY_AMT\"]) #일주일 디폴트"
   ]
  },
  {
   "cell_type": "code",
   "execution_count": 36,
   "id": "4f0aca92",
   "metadata": {},
   "outputs": [
    {
     "data": {
      "text/html": [
       "<div>\n",
       "<style scoped>\n",
       "    .dataframe tbody tr th:only-of-type {\n",
       "        vertical-align: middle;\n",
       "    }\n",
       "\n",
       "    .dataframe tbody tr th {\n",
       "        vertical-align: top;\n",
       "    }\n",
       "\n",
       "    .dataframe thead th {\n",
       "        text-align: right;\n",
       "    }\n",
       "</style>\n",
       "<table border=\"1\" class=\"dataframe\">\n",
       "  <thead>\n",
       "    <tr style=\"text-align: right;\">\n",
       "      <th></th>\n",
       "      <th>CT_PY_AMT</th>\n",
       "    </tr>\n",
       "  </thead>\n",
       "  <tbody>\n",
       "    <tr>\n",
       "      <th>2230</th>\n",
       "      <td>5.333333</td>\n",
       "    </tr>\n",
       "    <tr>\n",
       "      <th>2231</th>\n",
       "      <td>5.333333</td>\n",
       "    </tr>\n",
       "    <tr>\n",
       "      <th>2232</th>\n",
       "      <td>5.333333</td>\n",
       "    </tr>\n",
       "    <tr>\n",
       "      <th>2233</th>\n",
       "      <td>5.333333</td>\n",
       "    </tr>\n",
       "    <tr>\n",
       "      <th>2234</th>\n",
       "      <td>5.333333</td>\n",
       "    </tr>\n",
       "    <tr>\n",
       "      <th>...</th>\n",
       "      <td>...</td>\n",
       "    </tr>\n",
       "    <tr>\n",
       "      <th>406532</th>\n",
       "      <td>6.000000</td>\n",
       "    </tr>\n",
       "    <tr>\n",
       "      <th>406533</th>\n",
       "      <td>6.000000</td>\n",
       "    </tr>\n",
       "    <tr>\n",
       "      <th>406534</th>\n",
       "      <td>6.000000</td>\n",
       "    </tr>\n",
       "    <tr>\n",
       "      <th>406535</th>\n",
       "      <td>6.000000</td>\n",
       "    </tr>\n",
       "    <tr>\n",
       "      <th>406536</th>\n",
       "      <td>6.000000</td>\n",
       "    </tr>\n",
       "  </tbody>\n",
       "</table>\n",
       "<p>799 rows × 1 columns</p>\n",
       "</div>"
      ],
      "text/plain": [
       "        CT_PY_AMT\n",
       "2230     5.333333\n",
       "2231     5.333333\n",
       "2232     5.333333\n",
       "2233     5.333333\n",
       "2234     5.333333\n",
       "...           ...\n",
       "406532   6.000000\n",
       "406533   6.000000\n",
       "406534   6.000000\n",
       "406535   6.000000\n",
       "406536   6.000000\n",
       "\n",
       "[799 rows x 1 columns]"
      ]
     },
     "execution_count": 36,
     "metadata": {},
     "output_type": "execute_result"
    }
   ],
   "source": [
    "df_t[[\"CT_PY_AMT\"]]"
   ]
  },
  {
   "cell_type": "markdown",
   "id": "e8f41478",
   "metadata": {},
   "source": [
    "## 연령, 성별에 따른 추가 분석"
   ]
  },
  {
   "cell_type": "code",
   "execution_count": 37,
   "id": "3a553927",
   "metadata": {},
   "outputs": [],
   "source": [
    "def category_age(x):\n",
    "    if x < 10:\n",
    "        return 0\n",
    "    elif x < 20:\n",
    "        return 1\n",
    "    elif x < 30:\n",
    "        return 2\n",
    "    elif x < 40:\n",
    "        return 3\n",
    "    elif x < 50:\n",
    "        return 4\n",
    "    elif x < 60:\n",
    "        return 5\n",
    "    elif x < 70:\n",
    "        return 6\n",
    "    elif x < 80:\n",
    "        return 7\n",
    "    elif x < 90:\n",
    "        return 8"
   ]
  },
  {
   "cell_type": "code",
   "execution_count": 38,
   "id": "7611bfa0",
   "metadata": {},
   "outputs": [
    {
     "name": "stderr",
     "output_type": "stream",
     "text": [
      "C:\\Users\\MULTIC~1\\AppData\\Local\\Temp/ipykernel_17176/1160294.py:1: SettingWithCopyWarning: \n",
      "A value is trying to be set on a copy of a slice from a DataFrame.\n",
      "Try using .loc[row_indexer,col_indexer] = value instead\n",
      "\n",
      "See the caveats in the documentation: https://pandas.pydata.org/pandas-docs/stable/user_guide/indexing.html#returning-a-view-versus-a-copy\n",
      "  df_t[\"AGE_CAT\"] = df_t[\"AGE\"].apply(category_age)\n"
     ]
    },
    {
     "data": {
      "text/html": [
       "<div>\n",
       "<style scoped>\n",
       "    .dataframe tbody tr th:only-of-type {\n",
       "        vertical-align: middle;\n",
       "    }\n",
       "\n",
       "    .dataframe tbody tr th {\n",
       "        vertical-align: top;\n",
       "    }\n",
       "\n",
       "    .dataframe thead th {\n",
       "        text-align: right;\n",
       "    }\n",
       "</style>\n",
       "<table border=\"1\" class=\"dataframe\">\n",
       "  <thead>\n",
       "    <tr style=\"text-align: right;\">\n",
       "      <th></th>\n",
       "      <th>JOIN_SN</th>\n",
       "      <th>JOIN_SN_TYP</th>\n",
       "      <th>BTH_YR</th>\n",
       "      <th>GENDER</th>\n",
       "      <th>IS_KRN</th>\n",
       "      <th>AGE</th>\n",
       "      <th>SCTR_CD</th>\n",
       "      <th>COM_SN</th>\n",
       "      <th>POL_SN</th>\n",
       "      <th>GIS_CD</th>\n",
       "      <th>...</th>\n",
       "      <th>CT_PY_PD</th>\n",
       "      <th>CT_CHNL_CD</th>\n",
       "      <th>INSU_DAYS</th>\n",
       "      <th>INSU_YEAR</th>\n",
       "      <th>MGG_GRP_CD</th>\n",
       "      <th>MGG_CD</th>\n",
       "      <th>MGG_CNT</th>\n",
       "      <th>MGG_AMT_SUM</th>\n",
       "      <th>MGG_GRP_CD_</th>\n",
       "      <th>AGE_CAT</th>\n",
       "    </tr>\n",
       "  </thead>\n",
       "  <tbody>\n",
       "    <tr>\n",
       "      <th>2230</th>\n",
       "      <td>880454</td>\n",
       "      <td>1</td>\n",
       "      <td>1992</td>\n",
       "      <td>2</td>\n",
       "      <td>1</td>\n",
       "      <td>31</td>\n",
       "      <td>6</td>\n",
       "      <td>2443</td>\n",
       "      <td>545678</td>\n",
       "      <td>31</td>\n",
       "      <td>...</td>\n",
       "      <td>0</td>\n",
       "      <td>7</td>\n",
       "      <td>31</td>\n",
       "      <td>1</td>\n",
       "      <td>A4</td>\n",
       "      <td>A4199</td>\n",
       "      <td>1</td>\n",
       "      <td>160</td>\n",
       "      <td>진단</td>\n",
       "      <td>3</td>\n",
       "    </tr>\n",
       "    <tr>\n",
       "      <th>2231</th>\n",
       "      <td>880454</td>\n",
       "      <td>1</td>\n",
       "      <td>1992</td>\n",
       "      <td>2</td>\n",
       "      <td>1</td>\n",
       "      <td>31</td>\n",
       "      <td>6</td>\n",
       "      <td>2443</td>\n",
       "      <td>545678</td>\n",
       "      <td>31</td>\n",
       "      <td>...</td>\n",
       "      <td>0</td>\n",
       "      <td>7</td>\n",
       "      <td>31</td>\n",
       "      <td>1</td>\n",
       "      <td>A1</td>\n",
       "      <td>A1100</td>\n",
       "      <td>1</td>\n",
       "      <td>16000</td>\n",
       "      <td>사망</td>\n",
       "      <td>3</td>\n",
       "    </tr>\n",
       "    <tr>\n",
       "      <th>2232</th>\n",
       "      <td>880454</td>\n",
       "      <td>1</td>\n",
       "      <td>1992</td>\n",
       "      <td>2</td>\n",
       "      <td>1</td>\n",
       "      <td>31</td>\n",
       "      <td>6</td>\n",
       "      <td>2443</td>\n",
       "      <td>545678</td>\n",
       "      <td>31</td>\n",
       "      <td>...</td>\n",
       "      <td>0</td>\n",
       "      <td>7</td>\n",
       "      <td>31</td>\n",
       "      <td>1</td>\n",
       "      <td>A3</td>\n",
       "      <td>A3101</td>\n",
       "      <td>1</td>\n",
       "      <td>10000</td>\n",
       "      <td>후유장해</td>\n",
       "      <td>3</td>\n",
       "    </tr>\n",
       "    <tr>\n",
       "      <th>2233</th>\n",
       "      <td>880454</td>\n",
       "      <td>1</td>\n",
       "      <td>1992</td>\n",
       "      <td>2</td>\n",
       "      <td>1</td>\n",
       "      <td>31</td>\n",
       "      <td>6</td>\n",
       "      <td>2443</td>\n",
       "      <td>545678</td>\n",
       "      <td>31</td>\n",
       "      <td>...</td>\n",
       "      <td>0</td>\n",
       "      <td>7</td>\n",
       "      <td>31</td>\n",
       "      <td>1</td>\n",
       "      <td>A6</td>\n",
       "      <td>A6300</td>\n",
       "      <td>1</td>\n",
       "      <td>100</td>\n",
       "      <td>입원일당</td>\n",
       "      <td>3</td>\n",
       "    </tr>\n",
       "    <tr>\n",
       "      <th>2234</th>\n",
       "      <td>880454</td>\n",
       "      <td>1</td>\n",
       "      <td>1992</td>\n",
       "      <td>2</td>\n",
       "      <td>1</td>\n",
       "      <td>31</td>\n",
       "      <td>6</td>\n",
       "      <td>2443</td>\n",
       "      <td>545678</td>\n",
       "      <td>31</td>\n",
       "      <td>...</td>\n",
       "      <td>0</td>\n",
       "      <td>7</td>\n",
       "      <td>31</td>\n",
       "      <td>1</td>\n",
       "      <td>A6</td>\n",
       "      <td>A6100</td>\n",
       "      <td>1</td>\n",
       "      <td>100</td>\n",
       "      <td>입원일당</td>\n",
       "      <td>3</td>\n",
       "    </tr>\n",
       "    <tr>\n",
       "      <th>...</th>\n",
       "      <td>...</td>\n",
       "      <td>...</td>\n",
       "      <td>...</td>\n",
       "      <td>...</td>\n",
       "      <td>...</td>\n",
       "      <td>...</td>\n",
       "      <td>...</td>\n",
       "      <td>...</td>\n",
       "      <td>...</td>\n",
       "      <td>...</td>\n",
       "      <td>...</td>\n",
       "      <td>...</td>\n",
       "      <td>...</td>\n",
       "      <td>...</td>\n",
       "      <td>...</td>\n",
       "      <td>...</td>\n",
       "      <td>...</td>\n",
       "      <td>...</td>\n",
       "      <td>...</td>\n",
       "      <td>...</td>\n",
       "      <td>...</td>\n",
       "    </tr>\n",
       "    <tr>\n",
       "      <th>406532</th>\n",
       "      <td>979312</td>\n",
       "      <td>1</td>\n",
       "      <td>2002</td>\n",
       "      <td>1</td>\n",
       "      <td>1</td>\n",
       "      <td>21</td>\n",
       "      <td>6</td>\n",
       "      <td>5695546</td>\n",
       "      <td>2137903</td>\n",
       "      <td>23</td>\n",
       "      <td>...</td>\n",
       "      <td>0</td>\n",
       "      <td>5</td>\n",
       "      <td>30</td>\n",
       "      <td>1</td>\n",
       "      <td>A94</td>\n",
       "      <td>A9499</td>\n",
       "      <td>1</td>\n",
       "      <td>1300</td>\n",
       "      <td>위로금</td>\n",
       "      <td>2</td>\n",
       "    </tr>\n",
       "    <tr>\n",
       "      <th>406533</th>\n",
       "      <td>979312</td>\n",
       "      <td>1</td>\n",
       "      <td>2002</td>\n",
       "      <td>1</td>\n",
       "      <td>1</td>\n",
       "      <td>21</td>\n",
       "      <td>6</td>\n",
       "      <td>5695546</td>\n",
       "      <td>2137903</td>\n",
       "      <td>23</td>\n",
       "      <td>...</td>\n",
       "      <td>0</td>\n",
       "      <td>5</td>\n",
       "      <td>30</td>\n",
       "      <td>1</td>\n",
       "      <td>A3</td>\n",
       "      <td>A3101</td>\n",
       "      <td>1</td>\n",
       "      <td>10000</td>\n",
       "      <td>후유장해</td>\n",
       "      <td>2</td>\n",
       "    </tr>\n",
       "    <tr>\n",
       "      <th>406534</th>\n",
       "      <td>979312</td>\n",
       "      <td>1</td>\n",
       "      <td>2002</td>\n",
       "      <td>1</td>\n",
       "      <td>1</td>\n",
       "      <td>21</td>\n",
       "      <td>6</td>\n",
       "      <td>5695546</td>\n",
       "      <td>2137903</td>\n",
       "      <td>23</td>\n",
       "      <td>...</td>\n",
       "      <td>0</td>\n",
       "      <td>5</td>\n",
       "      <td>30</td>\n",
       "      <td>1</td>\n",
       "      <td>A1</td>\n",
       "      <td>A1399</td>\n",
       "      <td>1</td>\n",
       "      <td>270000</td>\n",
       "      <td>사망</td>\n",
       "      <td>2</td>\n",
       "    </tr>\n",
       "    <tr>\n",
       "      <th>406535</th>\n",
       "      <td>979312</td>\n",
       "      <td>1</td>\n",
       "      <td>2002</td>\n",
       "      <td>1</td>\n",
       "      <td>1</td>\n",
       "      <td>21</td>\n",
       "      <td>6</td>\n",
       "      <td>5695546</td>\n",
       "      <td>2137903</td>\n",
       "      <td>23</td>\n",
       "      <td>...</td>\n",
       "      <td>0</td>\n",
       "      <td>5</td>\n",
       "      <td>30</td>\n",
       "      <td>1</td>\n",
       "      <td>A94</td>\n",
       "      <td>A9499</td>\n",
       "      <td>1</td>\n",
       "      <td>1300</td>\n",
       "      <td>위로금</td>\n",
       "      <td>2</td>\n",
       "    </tr>\n",
       "    <tr>\n",
       "      <th>406536</th>\n",
       "      <td>979312</td>\n",
       "      <td>1</td>\n",
       "      <td>2002</td>\n",
       "      <td>1</td>\n",
       "      <td>1</td>\n",
       "      <td>21</td>\n",
       "      <td>6</td>\n",
       "      <td>5695546</td>\n",
       "      <td>2137903</td>\n",
       "      <td>23</td>\n",
       "      <td>...</td>\n",
       "      <td>0</td>\n",
       "      <td>5</td>\n",
       "      <td>30</td>\n",
       "      <td>1</td>\n",
       "      <td>A3</td>\n",
       "      <td>A3101</td>\n",
       "      <td>1</td>\n",
       "      <td>10000</td>\n",
       "      <td>후유장해</td>\n",
       "      <td>2</td>\n",
       "    </tr>\n",
       "  </tbody>\n",
       "</table>\n",
       "<p>799 rows × 26 columns</p>\n",
       "</div>"
      ],
      "text/plain": [
       "        JOIN_SN  JOIN_SN_TYP  BTH_YR  GENDER  IS_KRN  AGE  SCTR_CD   COM_SN  \\\n",
       "2230     880454            1    1992       2       1   31        6     2443   \n",
       "2231     880454            1    1992       2       1   31        6     2443   \n",
       "2232     880454            1    1992       2       1   31        6     2443   \n",
       "2233     880454            1    1992       2       1   31        6     2443   \n",
       "2234     880454            1    1992       2       1   31        6     2443   \n",
       "...         ...          ...     ...     ...     ...  ...      ...      ...   \n",
       "406532   979312            1    2002       1       1   21        6  5695546   \n",
       "406533   979312            1    2002       1       1   21        6  5695546   \n",
       "406534   979312            1    2002       1       1   21        6  5695546   \n",
       "406535   979312            1    2002       1       1   21        6  5695546   \n",
       "406536   979312            1    2002       1       1   21        6  5695546   \n",
       "\n",
       "         POL_SN  GIS_CD  ...  CT_PY_PD  CT_CHNL_CD INSU_DAYS INSU_YEAR  \\\n",
       "2230     545678      31  ...         0           7        31         1   \n",
       "2231     545678      31  ...         0           7        31         1   \n",
       "2232     545678      31  ...         0           7        31         1   \n",
       "2233     545678      31  ...         0           7        31         1   \n",
       "2234     545678      31  ...         0           7        31         1   \n",
       "...         ...     ...  ...       ...         ...       ...       ...   \n",
       "406532  2137903      23  ...         0           5        30         1   \n",
       "406533  2137903      23  ...         0           5        30         1   \n",
       "406534  2137903      23  ...         0           5        30         1   \n",
       "406535  2137903      23  ...         0           5        30         1   \n",
       "406536  2137903      23  ...         0           5        30         1   \n",
       "\n",
       "        MGG_GRP_CD  MGG_CD  MGG_CNT  MGG_AMT_SUM  MGG_GRP_CD_  AGE_CAT  \n",
       "2230            A4   A4199        1          160           진단        3  \n",
       "2231            A1   A1100        1        16000           사망        3  \n",
       "2232            A3   A3101        1        10000         후유장해        3  \n",
       "2233            A6   A6300        1          100         입원일당        3  \n",
       "2234            A6   A6100        1          100         입원일당        3  \n",
       "...            ...     ...      ...          ...          ...      ...  \n",
       "406532         A94   A9499        1         1300          위로금        2  \n",
       "406533          A3   A3101        1        10000         후유장해        2  \n",
       "406534          A1   A1399        1       270000           사망        2  \n",
       "406535         A94   A9499        1         1300          위로금        2  \n",
       "406536          A3   A3101        1        10000         후유장해        2  \n",
       "\n",
       "[799 rows x 26 columns]"
      ]
     },
     "execution_count": 38,
     "metadata": {},
     "output_type": "execute_result"
    }
   ],
   "source": [
    "df_t[\"AGE_CAT\"] = df_t[\"AGE\"].apply(category_age)\n",
    "df_t"
   ]
  },
  {
   "cell_type": "code",
   "execution_count": 39,
   "id": "8c15aeca",
   "metadata": {},
   "outputs": [
    {
     "data": {
      "text/plain": [
       "AGE_CAT\n",
       "1     3.666667\n",
       "2     6.129129\n",
       "3     6.377049\n",
       "4     7.274939\n",
       "5     9.444444\n",
       "6    10.724638\n",
       "7    22.166667\n",
       "8    18.666667\n",
       "Name: CT_PY_AMT, dtype: float64"
      ]
     },
     "execution_count": 39,
     "metadata": {},
     "output_type": "execute_result"
    }
   ],
   "source": [
    "df_t.groupby(\"AGE_CAT\").CT_PY_AMT.mean()"
   ]
  },
  {
   "cell_type": "code",
   "execution_count": 40,
   "id": "2eb3a053",
   "metadata": {},
   "outputs": [
    {
     "data": {
      "text/html": [
       "<div>\n",
       "<style scoped>\n",
       "    .dataframe tbody tr th:only-of-type {\n",
       "        vertical-align: middle;\n",
       "    }\n",
       "\n",
       "    .dataframe tbody tr th {\n",
       "        vertical-align: top;\n",
       "    }\n",
       "\n",
       "    .dataframe thead th {\n",
       "        text-align: right;\n",
       "    }\n",
       "</style>\n",
       "<table border=\"1\" class=\"dataframe\">\n",
       "  <thead>\n",
       "    <tr style=\"text-align: right;\">\n",
       "      <th></th>\n",
       "      <th>JOIN_SN</th>\n",
       "      <th>JOIN_SN_TYP</th>\n",
       "      <th>BTH_YR</th>\n",
       "      <th>IS_KRN</th>\n",
       "      <th>AGE</th>\n",
       "      <th>SCTR_CD</th>\n",
       "      <th>COM_SN</th>\n",
       "      <th>POL_SN</th>\n",
       "      <th>GIS_CD</th>\n",
       "      <th>INS_GBN_CD</th>\n",
       "      <th>...</th>\n",
       "      <th>CT_PY_PD</th>\n",
       "      <th>CT_CHNL_CD</th>\n",
       "      <th>INSU_DAYS</th>\n",
       "      <th>INSU_YEAR</th>\n",
       "      <th>MGG_GRP_CD</th>\n",
       "      <th>MGG_CD</th>\n",
       "      <th>MGG_CNT</th>\n",
       "      <th>MGG_AMT_SUM</th>\n",
       "      <th>MGG_GRP_CD_</th>\n",
       "      <th>AGE_CAT</th>\n",
       "    </tr>\n",
       "    <tr>\n",
       "      <th>GENDER</th>\n",
       "      <th></th>\n",
       "      <th></th>\n",
       "      <th></th>\n",
       "      <th></th>\n",
       "      <th></th>\n",
       "      <th></th>\n",
       "      <th></th>\n",
       "      <th></th>\n",
       "      <th></th>\n",
       "      <th></th>\n",
       "      <th></th>\n",
       "      <th></th>\n",
       "      <th></th>\n",
       "      <th></th>\n",
       "      <th></th>\n",
       "      <th></th>\n",
       "      <th></th>\n",
       "      <th></th>\n",
       "      <th></th>\n",
       "      <th></th>\n",
       "      <th></th>\n",
       "    </tr>\n",
       "  </thead>\n",
       "  <tbody>\n",
       "    <tr>\n",
       "      <th>1</th>\n",
       "      <td>396</td>\n",
       "      <td>396</td>\n",
       "      <td>396</td>\n",
       "      <td>396</td>\n",
       "      <td>396</td>\n",
       "      <td>396</td>\n",
       "      <td>396</td>\n",
       "      <td>396</td>\n",
       "      <td>396</td>\n",
       "      <td>396</td>\n",
       "      <td>...</td>\n",
       "      <td>396</td>\n",
       "      <td>396</td>\n",
       "      <td>396</td>\n",
       "      <td>396</td>\n",
       "      <td>396</td>\n",
       "      <td>396</td>\n",
       "      <td>396</td>\n",
       "      <td>396</td>\n",
       "      <td>396</td>\n",
       "      <td>396</td>\n",
       "    </tr>\n",
       "    <tr>\n",
       "      <th>2</th>\n",
       "      <td>403</td>\n",
       "      <td>403</td>\n",
       "      <td>403</td>\n",
       "      <td>403</td>\n",
       "      <td>403</td>\n",
       "      <td>403</td>\n",
       "      <td>403</td>\n",
       "      <td>403</td>\n",
       "      <td>403</td>\n",
       "      <td>403</td>\n",
       "      <td>...</td>\n",
       "      <td>403</td>\n",
       "      <td>403</td>\n",
       "      <td>403</td>\n",
       "      <td>403</td>\n",
       "      <td>403</td>\n",
       "      <td>403</td>\n",
       "      <td>403</td>\n",
       "      <td>403</td>\n",
       "      <td>403</td>\n",
       "      <td>403</td>\n",
       "    </tr>\n",
       "  </tbody>\n",
       "</table>\n",
       "<p>2 rows × 25 columns</p>\n",
       "</div>"
      ],
      "text/plain": [
       "        JOIN_SN  JOIN_SN_TYP  BTH_YR  IS_KRN  AGE  SCTR_CD  COM_SN  POL_SN  \\\n",
       "GENDER                                                                       \n",
       "1           396          396     396     396  396      396     396     396   \n",
       "2           403          403     403     403  403      403     403     403   \n",
       "\n",
       "        GIS_CD  INS_GBN_CD  ...  CT_PY_PD  CT_CHNL_CD  INSU_DAYS  INSU_YEAR  \\\n",
       "GENDER                      ...                                               \n",
       "1          396         396  ...       396         396        396        396   \n",
       "2          403         403  ...       403         403        403        403   \n",
       "\n",
       "        MGG_GRP_CD  MGG_CD  MGG_CNT  MGG_AMT_SUM  MGG_GRP_CD_  AGE_CAT  \n",
       "GENDER                                                                  \n",
       "1              396     396      396          396          396      396  \n",
       "2              403     403      403          403          403      403  \n",
       "\n",
       "[2 rows x 25 columns]"
      ]
     },
     "execution_count": 40,
     "metadata": {},
     "output_type": "execute_result"
    }
   ],
   "source": [
    "df_t.groupby(\"GENDER\").count()"
   ]
  },
  {
   "cell_type": "code",
   "execution_count": 41,
   "id": "76f72cf9",
   "metadata": {},
   "outputs": [
    {
     "data": {
      "image/png": "[encoded data removed]",
      "text/plain": [
       "<Figure size 432x288 with 1 Axes>"
      ]
     },
     "metadata": {},
     "output_type": "display_data"
    }
   ],
   "source": [
    "# 성별\n",
    "\n",
    "gender_cnt = df_t.groupby(\"GENDER\").count()\n",
    "male = gender_cnt[\"JOIN_SN\"][1]\n",
    "female = gender_cnt[\"JOIN_SN\"][2]\n",
    "\n",
    "plt.pie([male, female], labels=[\"male\", \"female\"])\n",
    "plt.show()"
   ]
  },
  {
   "cell_type": "code",
   "execution_count": 42,
   "id": "a721f09f",
   "metadata": {},
   "outputs": [
    {
     "data": {
      "image/png": "[encoded data removed]",
      "text/plain": [
       "<Figure size 432x288 with 1 Axes>"
      ]
     },
     "metadata": {},
     "output_type": "display_data"
    }
   ],
   "source": [
    "# 연령\n",
    "age_arr = []\n",
    "labels = []\n",
    "\n",
    "age_cnt = df_t.groupby(\"AGE_CAT\").count()\n",
    "for i in df_t[\"AGE_CAT\"].unique():\n",
    "    age_arr.append(age_cnt[\"JOIN_SN\"][i])\n",
    "    labels.append(i)\n",
    "    \n",
    "plt.pie(age_arr, labels=labels)\n",
    "plt.show()"
   ]
  },
  {
   "cell_type": "code",
   "execution_count": 43,
   "id": "f4966311",
   "metadata": {
    "scrolled": true
   },
   "outputs": [
    {
     "data": {
      "text/plain": [
       "AGE_CAT\n",
       "1      4\n",
       "2    222\n",
       "3    244\n",
       "4    137\n",
       "5    105\n",
       "6     69\n",
       "7     12\n",
       "8      6\n",
       "Name: JOIN_SN, dtype: int64"
      ]
     },
     "execution_count": 43,
     "metadata": {},
     "output_type": "execute_result"
    }
   ],
   "source": [
    "df_t.groupby(\"AGE_CAT\").count().JOIN_SN"
   ]
  },
  {
   "cell_type": "code",
   "execution_count": 44,
   "id": "be58d4f0",
   "metadata": {},
   "outputs": [
    {
     "data": {
      "text/plain": [
       "AGE_CAT\n",
       "1     3.666667\n",
       "2     6.129129\n",
       "3     6.377049\n",
       "4     7.274939\n",
       "5     9.444444\n",
       "6    10.724638\n",
       "7    22.166667\n",
       "8    18.666667\n",
       "Name: CT_PY_AMT, dtype: float64"
      ]
     },
     "execution_count": 44,
     "metadata": {},
     "output_type": "execute_result"
    }
   ],
   "source": [
    "# 나이대별 납입보험료\n",
    "df_t.groupby(\"AGE_CAT\").mean().CT_PY_AMT # 나이가 많을수록 대체로 비쌈. 80대는?"
   ]
  },
  {
   "cell_type": "code",
   "execution_count": 45,
   "id": "6ad86ef4",
   "metadata": {},
   "outputs": [
    {
     "name": "stderr",
     "output_type": "stream",
     "text": [
      "C:\\ProgramData\\Anaconda3\\lib\\site-packages\\seaborn\\_decorators.py:36: FutureWarning: Pass the following variables as keyword args: x, y. From version 0.12, the only valid positional argument will be `data`, and passing other arguments without an explicit keyword will result in an error or misinterpretation.\n",
      "  warnings.warn(\n"
     ]
    },
    {
     "data": {
      "text/plain": [
       "<AxesSubplot:xlabel='AGE_CAT', ylabel='CT_PY_AMT'>"
      ]
     },
     "execution_count": 45,
     "metadata": {},
     "output_type": "execute_result"
    },
    {
     "data": {
      "image/png": "[encoded data removed]",
      "text/plain": [
       "<Figure size 432x288 with 1 Axes>"
      ]
     },
     "metadata": {
      "needs_background": "light"
     },
     "output_type": "display_data"
    }
   ],
   "source": [
    "sns.barplot(df_t[\"AGE_CAT\"], df_t[\"CT_PY_AMT\"])"
   ]
  },
  {
   "cell_type": "markdown",
   "id": "dd86ec3b",
   "metadata": {},
   "source": [
    "---"
   ]
  },
  {
   "cell_type": "code",
   "execution_count": 46,
   "id": "50ae05b2",
   "metadata": {},
   "outputs": [],
   "source": [
    "dfs = {}\n",
    "for a in df_t.MGG_GRP_CD_.unique():\n",
    "    dfs[a] = df_t[df_t[\"MGG_GRP_CD_\"] == a]"
   ]
  },
  {
   "cell_type": "code",
   "execution_count": 47,
   "id": "a03e93fe",
   "metadata": {},
   "outputs": [
    {
     "data": {
      "text/plain": [
       "array(['진단', '사망', '후유장해', '입원일당', '기타', '위로금'], dtype=object)"
      ]
     },
     "execution_count": 47,
     "metadata": {},
     "output_type": "execute_result"
    }
   ],
   "source": [
    "df_t.MGG_GRP_CD_.unique()"
   ]
  },
  {
   "cell_type": "code",
   "execution_count": 48,
   "id": "ec251a7e",
   "metadata": {},
   "outputs": [
    {
     "data": {
      "text/html": [
       "<div>\n",
       "<style scoped>\n",
       "    .dataframe tbody tr th:only-of-type {\n",
       "        vertical-align: middle;\n",
       "    }\n",
       "\n",
       "    .dataframe tbody tr th {\n",
       "        vertical-align: top;\n",
       "    }\n",
       "\n",
       "    .dataframe thead th {\n",
       "        text-align: right;\n",
       "    }\n",
       "</style>\n",
       "<table border=\"1\" class=\"dataframe\">\n",
       "  <thead>\n",
       "    <tr style=\"text-align: right;\">\n",
       "      <th></th>\n",
       "      <th>JOIN_SN</th>\n",
       "      <th>JOIN_SN_TYP</th>\n",
       "      <th>BTH_YR</th>\n",
       "      <th>IS_KRN</th>\n",
       "      <th>AGE</th>\n",
       "      <th>SCTR_CD</th>\n",
       "      <th>COM_SN</th>\n",
       "      <th>POL_SN</th>\n",
       "      <th>GIS_CD</th>\n",
       "      <th>INS_GBN_CD</th>\n",
       "      <th>...</th>\n",
       "      <th>CT_PY_PD</th>\n",
       "      <th>CT_CHNL_CD</th>\n",
       "      <th>INSU_DAYS</th>\n",
       "      <th>INSU_YEAR</th>\n",
       "      <th>MGG_GRP_CD</th>\n",
       "      <th>MGG_CD</th>\n",
       "      <th>MGG_CNT</th>\n",
       "      <th>MGG_AMT_SUM</th>\n",
       "      <th>MGG_GRP_CD_</th>\n",
       "      <th>AGE_CAT</th>\n",
       "    </tr>\n",
       "    <tr>\n",
       "      <th>GENDER</th>\n",
       "      <th></th>\n",
       "      <th></th>\n",
       "      <th></th>\n",
       "      <th></th>\n",
       "      <th></th>\n",
       "      <th></th>\n",
       "      <th></th>\n",
       "      <th></th>\n",
       "      <th></th>\n",
       "      <th></th>\n",
       "      <th></th>\n",
       "      <th></th>\n",
       "      <th></th>\n",
       "      <th></th>\n",
       "      <th></th>\n",
       "      <th></th>\n",
       "      <th></th>\n",
       "      <th></th>\n",
       "      <th></th>\n",
       "      <th></th>\n",
       "      <th></th>\n",
       "    </tr>\n",
       "  </thead>\n",
       "  <tbody>\n",
       "    <tr>\n",
       "      <th>1</th>\n",
       "      <td>396</td>\n",
       "      <td>396</td>\n",
       "      <td>396</td>\n",
       "      <td>396</td>\n",
       "      <td>396</td>\n",
       "      <td>396</td>\n",
       "      <td>396</td>\n",
       "      <td>396</td>\n",
       "      <td>396</td>\n",
       "      <td>396</td>\n",
       "      <td>...</td>\n",
       "      <td>396</td>\n",
       "      <td>396</td>\n",
       "      <td>396</td>\n",
       "      <td>396</td>\n",
       "      <td>396</td>\n",
       "      <td>396</td>\n",
       "      <td>396</td>\n",
       "      <td>396</td>\n",
       "      <td>396</td>\n",
       "      <td>396</td>\n",
       "    </tr>\n",
       "    <tr>\n",
       "      <th>2</th>\n",
       "      <td>403</td>\n",
       "      <td>403</td>\n",
       "      <td>403</td>\n",
       "      <td>403</td>\n",
       "      <td>403</td>\n",
       "      <td>403</td>\n",
       "      <td>403</td>\n",
       "      <td>403</td>\n",
       "      <td>403</td>\n",
       "      <td>403</td>\n",
       "      <td>...</td>\n",
       "      <td>403</td>\n",
       "      <td>403</td>\n",
       "      <td>403</td>\n",
       "      <td>403</td>\n",
       "      <td>403</td>\n",
       "      <td>403</td>\n",
       "      <td>403</td>\n",
       "      <td>403</td>\n",
       "      <td>403</td>\n",
       "      <td>403</td>\n",
       "    </tr>\n",
       "  </tbody>\n",
       "</table>\n",
       "<p>2 rows × 25 columns</p>\n",
       "</div>"
      ],
      "text/plain": [
       "        JOIN_SN  JOIN_SN_TYP  BTH_YR  IS_KRN  AGE  SCTR_CD  COM_SN  POL_SN  \\\n",
       "GENDER                                                                       \n",
       "1           396          396     396     396  396      396     396     396   \n",
       "2           403          403     403     403  403      403     403     403   \n",
       "\n",
       "        GIS_CD  INS_GBN_CD  ...  CT_PY_PD  CT_CHNL_CD  INSU_DAYS  INSU_YEAR  \\\n",
       "GENDER                      ...                                               \n",
       "1          396         396  ...       396         396        396        396   \n",
       "2          403         403  ...       403         403        403        403   \n",
       "\n",
       "        MGG_GRP_CD  MGG_CD  MGG_CNT  MGG_AMT_SUM  MGG_GRP_CD_  AGE_CAT  \n",
       "GENDER                                                                  \n",
       "1              396     396      396          396          396      396  \n",
       "2              403     403      403          403          403      403  \n",
       "\n",
       "[2 rows x 25 columns]"
      ]
     },
     "execution_count": 48,
     "metadata": {},
     "output_type": "execute_result"
    }
   ],
   "source": [
    "df_t.groupby(\"GENDER\").count()"
   ]
  },
  {
   "cell_type": "code",
   "execution_count": 49,
   "id": "9ec74130",
   "metadata": {},
   "outputs": [
    {
     "data": {
      "image/png": "[encoded data removed]",
      "text/plain": [
       "<Figure size 432x288 with 1 Axes>"
      ]
     },
     "metadata": {},
     "output_type": "display_data"
    },
    {
     "data": {
      "image/png": "[encoded data removed]",
      "text/plain": [
       "<Figure size 432x288 with 1 Axes>"
      ]
     },
     "metadata": {},
     "output_type": "display_data"
    },
    {
     "data": {
      "image/png": "[encoded data removed]",
      "text/plain": [
       "<Figure size 432x288 with 1 Axes>"
      ]
     },
     "metadata": {},
     "output_type": "display_data"
    },
    {
     "data": {
      "image/png": "[encoded data removed]",
      "text/plain": [
       "<Figure size 432x288 with 1 Axes>"
      ]
     },
     "metadata": {},
     "output_type": "display_data"
    },
    {
     "data": {
      "image/png": "[encoded data removed]",
      "text/plain": [
       "<Figure size 432x288 with 1 Axes>"
      ]
     },
     "metadata": {},
     "output_type": "display_data"
    },
    {
     "data": {
      "image/png": "[encoded data removed]",
      "text/plain": [
       "<Figure size 432x288 with 1 Axes>"
      ]
     },
     "metadata": {},
     "output_type": "display_data"
    }
   ],
   "source": [
    "# 보험담보그룹 별 성별 비율\n",
    "\n",
    "for a in df_t.MGG_GRP_CD_.unique():\n",
    "    arr = []\n",
    "    labels = []\n",
    "    df = dfs[a]\n",
    "    df.groupby(\"GENDER\").count()\n",
    "    gender_cnt = df.groupby(\"GENDER\").count()\n",
    "    for i in df.GENDER.unique():\n",
    "        arr.append(gender_cnt[\"JOIN_SN\"][i])\n",
    "        labels.append(i)\n",
    "#     female = gender_cnt[\"JOIN_SN\"][2]\n",
    "\n",
    "#     labels = [\"male\", \"female\"]\n",
    "\n",
    "    plt.pie(arr, labels=labels)\n",
    "    plt.title(a)\n",
    "    plt.show()"
   ]
  },
  {
   "cell_type": "code",
   "execution_count": 50,
   "id": "ddec204c",
   "metadata": {
    "scrolled": false
   },
   "outputs": [
    {
     "name": "stdout",
     "output_type": "stream",
     "text": [
      "[3 2]\n"
     ]
    },
    {
     "data": {
      "image/png": "[encoded data removed]",
      "text/plain": [
       "<Figure size 432x288 with 1 Axes>"
      ]
     },
     "metadata": {},
     "output_type": "display_data"
    },
    {
     "name": "stdout",
     "output_type": "stream",
     "text": [
      "[3 5 4 6 2 7 8]\n"
     ]
    },
    {
     "data": {
      "image/png": "[encoded data removed]",
      "text/plain": [
       "<Figure size 432x288 with 1 Axes>"
      ]
     },
     "metadata": {},
     "output_type": "display_data"
    },
    {
     "name": "stdout",
     "output_type": "stream",
     "text": [
      "[3 4 6 5 2 1 7 8]\n"
     ]
    },
    {
     "data": {
      "image/png": "[encoded data removed]",
      "text/plain": [
       "<Figure size 432x288 with 1 Axes>"
      ]
     },
     "metadata": {},
     "output_type": "display_data"
    },
    {
     "name": "stdout",
     "output_type": "stream",
     "text": [
      "[3 2]\n"
     ]
    },
    {
     "data": {
      "image/png": "[encoded data removed]",
      "text/plain": [
       "<Figure size 432x288 with 1 Axes>"
      ]
     },
     "metadata": {},
     "output_type": "display_data"
    },
    {
     "name": "stdout",
     "output_type": "stream",
     "text": [
      "[3 5 4 6 2 7]\n"
     ]
    },
    {
     "data": {
      "image/png": "[encoded data removed]",
      "text/plain": [
       "<Figure size 432x288 with 1 Axes>"
      ]
     },
     "metadata": {},
     "output_type": "display_data"
    },
    {
     "name": "stdout",
     "output_type": "stream",
     "text": [
      "[3 4 6 5 2 1 8]\n"
     ]
    },
    {
     "data": {
      "image/png": "[encoded data removed]",
      "text/plain": [
       "<Figure size 432x288 with 1 Axes>"
      ]
     },
     "metadata": {},
     "output_type": "display_data"
    }
   ],
   "source": [
    "# 보험담보그룹 별 나이대 비율\n",
    "\n",
    "for a in df_t.MGG_GRP_CD_.unique():\n",
    "    df = dfs[a]\n",
    "    age_cnt = df.groupby(\"AGE_CAT\").count()\n",
    "    age_arr = []\n",
    "    labels = []\n",
    "    print(df.AGE_CAT.unique())\n",
    "#     print(age_cnt)\n",
    "    for i in df.AGE_CAT.unique():\n",
    "        if age_cnt[\"AGE\"][i]:\n",
    "            age_arr.append(age_cnt[\"AGE\"][i])\n",
    "            labels.append(f\"{i}0대\")\n",
    "    plt.pie(age_arr, labels=labels)\n",
    "    plt.title(a)\n",
    "    plt.show()"
   ]
  },
  {
   "cell_type": "code",
   "execution_count": 51,
   "id": "66e2bfe4",
   "metadata": {
    "scrolled": false
   },
   "outputs": [
    {
     "name": "stdout",
     "output_type": "stream",
     "text": [
      "['A94' 'A3']\n"
     ]
    },
    {
     "data": {
      "image/png": "[encoded data removed]",
      "text/plain": [
       "<Figure size 432x288 with 1 Axes>"
      ]
     },
     "metadata": {},
     "output_type": "display_data"
    },
    {
     "name": "stdout",
     "output_type": "stream",
     "text": [
      "['A1' 'A3' 'A94' 'A99' 'A4' 'A6']\n"
     ]
    },
    {
     "data": {
      "image/png": "[encoded data removed]",
      "text/plain": [
       "<Figure size 432x288 with 1 Axes>"
      ]
     },
     "metadata": {},
     "output_type": "display_data"
    },
    {
     "name": "stdout",
     "output_type": "stream",
     "text": [
      "['A4' 'A1' 'A3' 'A6' 'A99' 'A94']\n"
     ]
    },
    {
     "data": {
      "image/png": "[encoded data removed]",
      "text/plain": [
       "<Figure size 432x288 with 1 Axes>"
      ]
     },
     "metadata": {},
     "output_type": "display_data"
    },
    {
     "name": "stdout",
     "output_type": "stream",
     "text": [
      "['A94' 'A1' 'A3' 'A99']\n"
     ]
    },
    {
     "data": {
      "image/png": "[encoded data removed]",
      "text/plain": [
       "<Figure size 432x288 with 1 Axes>"
      ]
     },
     "metadata": {},
     "output_type": "display_data"
    },
    {
     "name": "stdout",
     "output_type": "stream",
     "text": [
      "['A99' 'A1' 'A3' 'A94']\n"
     ]
    },
    {
     "data": {
      "image/png": "[encoded data removed]",
      "text/plain": [
       "<Figure size 432x288 with 1 Axes>"
      ]
     },
     "metadata": {},
     "output_type": "display_data"
    },
    {
     "name": "stdout",
     "output_type": "stream",
     "text": [
      "['A1' 'A3' 'A94' 'A99']\n"
     ]
    },
    {
     "data": {
      "image/png": "[encoded data removed]",
      "text/plain": [
       "<Figure size 432x288 with 1 Axes>"
      ]
     },
     "metadata": {},
     "output_type": "display_data"
    },
    {
     "name": "stdout",
     "output_type": "stream",
     "text": [
      "['A1' 'A99' 'A3']\n"
     ]
    },
    {
     "data": {
      "image/png": "[encoded data removed]",
      "text/plain": [
       "<Figure size 432x288 with 1 Axes>"
      ]
     },
     "metadata": {},
     "output_type": "display_data"
    },
    {
     "name": "stdout",
     "output_type": "stream",
     "text": [
      "['A1' 'A94' 'A3']\n"
     ]
    },
    {
     "data": {
      "image/png": "[encoded data removed]",
      "text/plain": [
       "<Figure size 432x288 with 1 Axes>"
      ]
     },
     "metadata": {},
     "output_type": "display_data"
    }
   ],
   "source": [
    "# 나이대별 보험담보그룹 비율\n",
    "\n",
    "dfs_age = {}\n",
    "for n in df_t.AGE_CAT.unique():\n",
    "    dfs_age[n] = df_t[df_t[\"AGE_CAT\"] == n]\n",
    "    \n",
    "for n in sorted(df_t.AGE_CAT.unique()):\n",
    "    df = dfs_age[n]\n",
    "    mgg_cnt = df.groupby(\"MGG_GRP_CD_\").count()\n",
    "    mgg_arr = []\n",
    "    labels = []\n",
    "    print(df.MGG_GRP_CD.unique())\n",
    "#     print(age_cnt)\n",
    "    for i in df.MGG_GRP_CD_.unique():\n",
    "        if mgg_cnt[\"JOIN_SN\"][i]:\n",
    "            mgg_arr.append(mgg_cnt[\"JOIN_SN\"][i])\n",
    "            labels.append(i)\n",
    "    plt.pie(mgg_arr, labels=labels)\n",
    "    plt.title(f\"{n}0대\")\n",
    "    plt.show()"
   ]
  },
  {
   "cell_type": "markdown",
   "id": "78318b51",
   "metadata": {},
   "source": [
    "---"
   ]
  },
  {
   "cell_type": "code",
   "execution_count": null,
   "id": "d775ac0d",
   "metadata": {},
   "outputs": [],
   "source": []
  },
  {
   "cell_type": "code",
   "execution_count": null,
   "id": "49e0f23d",
   "metadata": {},
   "outputs": [],
   "source": []
  },
  {
   "cell_type": "code",
   "execution_count": null,
   "id": "21184c6f",
   "metadata": {},
   "outputs": [],
   "source": []
  },
  {
   "cell_type": "code",
   "execution_count": null,
   "id": "8392bf61",
   "metadata": {},
   "outputs": [],
   "source": []
  },
  {
   "cell_type": "code",
   "execution_count": null,
   "id": "da49b7e9",
   "metadata": {},
   "outputs": [],
   "source": []
  }
 ],
 "metadata": {
  "kernelspec": {
   "display_name": "Python 3 (ipykernel)",
   "language": "python",
   "name": "python3"
  },
  "language_info": {
   "codemirror_mode": {
    "name": "ipython",
    "version": 3
   },
   "file_extension": ".py",
   "mimetype": "text/x-python",
   "name": "python",
   "nbconvert_exporter": "python",
   "pygments_lexer": "ipython3",
   "version": "3.9.7"
  }
 },
 "nbformat": 4,
 "nbformat_minor": 5
}
